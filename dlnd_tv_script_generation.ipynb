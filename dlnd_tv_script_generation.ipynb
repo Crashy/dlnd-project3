{
 "cells": [
  {
   "cell_type": "markdown",
   "metadata": {
    "deletable": true,
    "editable": true
   },
   "source": [
    "# TV Script Generation\n",
    "In this project, you'll generate your own [Simpsons](https://en.wikipedia.org/wiki/The_Simpsons) TV scripts using RNNs.  You'll be using part of the [Simpsons dataset](https://www.kaggle.com/wcukierski/the-simpsons-by-the-data) of scripts from 27 seasons.  The Neural Network you'll build will generate a new TV script for a scene at [Moe's Tavern](https://simpsonswiki.com/wiki/Moe's_Tavern).\n",
    "## Get the Data\n",
    "The data is already provided for you.  You'll be using a subset of the original dataset.  It consists of only the scenes in Moe's Tavern.  This doesn't include other versions of the tavern, like \"Moe's Cavern\", \"Flaming Moe's\", \"Uncle Moe's Family Feed-Bag\", etc.."
   ]
  },
  {
   "cell_type": "code",
   "execution_count": 1,
   "metadata": {
    "collapsed": false,
    "deletable": true,
    "editable": true
   },
   "outputs": [],
   "source": [
    "\"\"\"\n",
    "DON'T MODIFY ANYTHING IN THIS CELL\n",
    "\"\"\"\n",
    "import helper\n",
    "\n",
    "data_dir = './data/simpsons/moes_tavern_lines.txt'\n",
    "text = helper.load_data(data_dir)\n",
    "# Ignore notice, since we don't use it for analysing the data\n",
    "text = text[81:]"
   ]
  },
  {
   "cell_type": "markdown",
   "metadata": {
    "deletable": true,
    "editable": true
   },
   "source": [
    "## Explore the Data\n",
    "Play around with `view_sentence_range` to view different parts of the data."
   ]
  },
  {
   "cell_type": "code",
   "execution_count": 2,
   "metadata": {
    "collapsed": false,
    "deletable": true,
    "editable": true
   },
   "outputs": [
    {
     "name": "stdout",
     "output_type": "stream",
     "text": [
      "Dataset Stats\n",
      "Roughly the number of unique words: 11492\n",
      "Number of scenes: 262\n",
      "Average number of sentences in each scene: 15.251908396946565\n",
      "Number of lines: 4258\n",
      "Average number of words in each line: 11.50164396430249\n",
      "\n",
      "The sentences 0 to 10:\n",
      "\n",
      "Moe_Szyslak: (INTO PHONE) Moe's Tavern. Where the elite meet to drink.\n",
      "Bart_Simpson: Eh, yeah, hello, is Mike there? Last name, Rotch.\n",
      "Moe_Szyslak: (INTO PHONE) Hold on, I'll check. (TO BARFLIES) Mike Rotch. Mike Rotch. Hey, has anybody seen Mike Rotch, lately?\n",
      "Moe_Szyslak: (INTO PHONE) Listen you little puke. One of these days I'm gonna catch you, and I'm gonna carve my name on your back with an ice pick.\n",
      "Moe_Szyslak: What's the matter Homer? You're not your normal effervescent self.\n",
      "Homer_Simpson: I got my problems, Moe. Give me another one.\n",
      "Moe_Szyslak: Homer, hey, you should not drink to forget your problems.\n",
      "Barney_Gumble: Yeah, you should only drink to enhance your social skills.\n",
      "\n"
     ]
    }
   ],
   "source": [
    "view_sentence_range = (0, 10)\n",
    "\n",
    "\"\"\"\n",
    "DON'T MODIFY ANYTHING IN THIS CELL\n",
    "\"\"\"\n",
    "import numpy as np\n",
    "\n",
    "print('Dataset Stats')\n",
    "print('Roughly the number of unique words: {}'.format(len({word: None for word in text.split()})))\n",
    "scenes = text.split('\\n\\n')\n",
    "print('Number of scenes: {}'.format(len(scenes)))\n",
    "sentence_count_scene = [scene.count('\\n') for scene in scenes]\n",
    "print('Average number of sentences in each scene: {}'.format(np.average(sentence_count_scene)))\n",
    "\n",
    "sentences = [sentence for scene in scenes for sentence in scene.split('\\n')]\n",
    "print('Number of lines: {}'.format(len(sentences)))\n",
    "word_count_sentence = [len(sentence.split()) for sentence in sentences]\n",
    "print('Average number of words in each line: {}'.format(np.average(word_count_sentence)))\n",
    "\n",
    "print()\n",
    "print('The sentences {} to {}:'.format(*view_sentence_range))\n",
    "print('\\n'.join(text.split('\\n')[view_sentence_range[0]:view_sentence_range[1]]))"
   ]
  },
  {
   "cell_type": "markdown",
   "metadata": {
    "deletable": true,
    "editable": true
   },
   "source": [
    "## Implement Preprocessing Functions\n",
    "The first thing to do to any dataset is preprocessing.  Implement the following preprocessing functions below:\n",
    "- Lookup Table\n",
    "- Tokenize Punctuation\n",
    "\n",
    "### Lookup Table\n",
    "To create a word embedding, you first need to transform the words to ids.  In this function, create two dictionaries:\n",
    "- Dictionary to go from the words to an id, we'll call `vocab_to_int`\n",
    "- Dictionary to go from the id to word, we'll call `int_to_vocab`\n",
    "\n",
    "Return these dictionaries in the following tuple `(vocab_to_int, int_to_vocab)`"
   ]
  },
  {
   "cell_type": "code",
   "execution_count": 9,
   "metadata": {
    "collapsed": false,
    "deletable": true,
    "editable": true
   },
   "outputs": [
    {
     "name": "stdout",
     "output_type": "stream",
     "text": [
      "{2: \"moe's\", 3: 'tavern', 4: 'where', 6: 'elite', 7: 'meet', 10: 'bart_simpson', 11: 'eh', 13: 'hello', 14: 'is', 16: 'there', 17: 'last', 21: 'hold', 23: \"i'll\", 24: 'check', 30: 'has', 31: 'anybody', 32: 'seen', 33: 'mike', 34: 'rotch', 35: 'lately', 37: 'listen', 39: 'little', 40: 'puke', 42: 'of', 43: 'these', 44: 'days', 47: 'catch', 49: 'and', 50: \"i'm\", 51: 'gonna', 52: 'carve', 54: 'name', 55: 'on', 57: 'back', 58: 'with', 59: 'an', 60: 'ice', 61: 'pick', 63: 'whats', 64: 'the', 65: 'matter', 67: \"you're\", 70: 'normal', 71: 'effervescent', 72: 'self', 73: 'homer_simpson', 74: 'i', 75: 'got', 76: 'my', 78: 'moe', 79: 'give', 80: 'me', 81: 'another', 82: 'one', 83: 'moe_szyslak', 84: 'homer', 85: 'hey', 88: 'not', 91: 'forget', 93: 'problems', 94: 'barney_gumble', 95: 'yeah', 96: 'you', 97: 'should', 98: 'only', 99: 'drink', 100: 'to', 101: 'enhance', 102: 'your', 103: 'social', 104: 'skills'}\n",
      "Tests Passed\n"
     ]
    }
   ],
   "source": [
    "import numpy as np\n",
    "import problem_unittests as tests\n",
    "from collections import Counter\n",
    "\n",
    "def create_lookup_tables(text):\n",
    "    \"\"\"\n",
    "    Create lookup tables for vocabulary\n",
    "    :param text: The text of tv scripts split into words\n",
    "    :return: A tuple of dicts (vocab_to_int, int_to_vocab)\n",
    "    \"\"\"\n",
    "    # TODO: Implement Function\n",
    "    vocab_to_int = {word: i for i, word in enumerate(text, 1)}\n",
    "    int_to_vocab = {y:x for x,y in vocab_to_int.items()}\n",
    "    return vocab_to_int, int_to_vocab\n",
    "\n",
    "\n",
    "\"\"\"\n",
    "DON'T MODIFY ANYTHING IN THIS CELL THAT IS BELOW THIS LINE\n",
    "\"\"\"\n",
    "tests.test_create_lookup_tables(create_lookup_tables)"
   ]
  },
  {
   "cell_type": "markdown",
   "metadata": {
    "deletable": true,
    "editable": true
   },
   "source": [
    "### Tokenize Punctuation\n",
    "We'll be splitting the script into a word array using spaces as delimiters.  However, punctuations like periods and exclamation marks make it hard for the neural network to distinguish between the word \"bye\" and \"bye!\".\n",
    "\n",
    "Implement the function `token_lookup` to return a dict that will be used to tokenize symbols like \"!\" into \"||Exclamation_Mark||\".  Create a dictionary for the following symbols where the symbol is the key and value is the token:\n",
    "- Period ( . )\n",
    "- Comma ( , )\n",
    "- Quotation Mark ( \" )\n",
    "- Semicolon ( ; )\n",
    "- Exclamation mark ( ! )\n",
    "- Question mark ( ? )\n",
    "- Left Parentheses ( ( )\n",
    "- Right Parentheses ( ) )\n",
    "- Dash ( -- )\n",
    "- Return ( \\n )\n",
    "\n",
    "This dictionary will be used to token the symbols and add the delimiter (space) around it.  This separates the symbols as it's own word, making it easier for the neural network to predict on the next word. Make sure you don't use a token that could be confused as a word. Instead of using the token \"dash\", try using something like \"||dash||\"."
   ]
  },
  {
   "cell_type": "code",
   "execution_count": 12,
   "metadata": {
    "collapsed": false,
    "deletable": true,
    "editable": true
   },
   "outputs": [
    {
     "name": "stdout",
     "output_type": "stream",
     "text": [
      "Tests Passed\n"
     ]
    }
   ],
   "source": [
    "def token_lookup():\n",
    "    \"\"\"\n",
    "    Generate a dict to turn punctuation into a token.\n",
    "    :return: Tokenize dictionary where the key is the punctuation and the value is the token\n",
    "    \"\"\"\n",
    "    # TODO: Implement Function\n",
    "    return {'.': '||Period||', ',': '||Comma||','\"': '||Quotation_Mark||',';': '||Semicolon||','!': '||Exclamation_Mark||'\n",
    "                  ,'?': '||Question_Mark||','(': '||Left_Parentheses||',')': '||Right_Parentheses||','--': '||Dash||'\n",
    "                  ,'\\n': '||Return||'}\n",
    "\n",
    "\"\"\"\n",
    "DON'T MODIFY ANYTHING IN THIS CELL THAT IS BELOW THIS LINE\n",
    "\"\"\"\n",
    "tests.test_tokenize(token_lookup)"
   ]
  },
  {
   "cell_type": "markdown",
   "metadata": {
    "deletable": true,
    "editable": true
   },
   "source": [
    "## Preprocess all the data and save it\n",
    "Running the code cell below will preprocess all the data and save it to file."
   ]
  },
  {
   "cell_type": "code",
   "execution_count": 13,
   "metadata": {
    "collapsed": false,
    "deletable": true,
    "editable": true
   },
   "outputs": [
    {
     "name": "stdout",
     "output_type": "stream",
     "text": [
      "{16386: 'madison', 16387: 'avenue', 16388: 'grave', 16389: 'robbers', 51884: 'doors', 49163: 'ahhh', 12: 'elite', 57346: 'investigating', 32782: 'perplexed', 65539: 'tipsy', 65556: 'game', 65560: 'feed', 65562: 'nachos', 65565: 'play', 49184: 'weeks', 65573: 'brave', 65574: 'crew', 16424: 'impeach', 16425: 'churchill', 32811: 'slap', 65581: 'triangle', 32814: 'payback', 32818: 'revenge', 16435: 'crooks', 65589: 'always', 65594: 'things', 64027: 'keys', 62: 'rotch', 32832: 'subscriptions', 65605: 'wonderful', 65611: 'atari', 49229: \"elmo's\", 65614: 'young_homer:', 65616: 'oblivious', 49234: 'andrew', 49235: 'mccarthy', 65621: 'aims', 49240: 'attend', 65628: 'stop', 42557: 'presto:', 65631: 'dumpster', 49248: 'lied', 32866: 'cerebral', 65637: 'gags', 49254: 'needy', 65639: 'then:', 65640: 'holds', 39284: 'pair', 65642: 'finger', 32875: 'booze-bags', 16492: 'allowance', 65646: 'thought', 49265: 'itchy', 16403: 'various', 65652: 'psst', 56197: 'fund', 32889: 'driver', 65658: 'asleep', 16511: 'greedy', 16513: 'cats', 65667: 'young_marge:', 32900: 'victorious', 65672: 'life', 65674: 'watching', 65677: 'drunk', 42009: 'eggshell', 32911: 'gallon', 65680: 'holding', 32914: 'challenge', 65685: 'beautiful', 65686: 'hair', 152: 'enhance', 65689: 'vomit', 66253: 'boys', 155: 'skills', 16543: 'bury', 49314: 'planted', 65699: 'live', 10951: 'payments', 172: 'politician', 49326: 'police', 65715: 'mellow', 32953: 'reminds', 65722: 'hmm', 16373: 'winston', 32958: 'icelandic', 32959: 'boyhood', 65729: 'aghast', 32966: 'anti-crime', 32967: 'dealie', 200: \"neighbor's\", 65737: 'teacher', 49356: \"gettin'\", 32973: 'streetlights', 49358: 'chair', 65743: 'mrs', 65745: 'k', 16594: 'businessman_#2:', 32982: 'strongly', 16600: 'businessman_#1:', 32988: 'pro', 32990: 'con', 32994: \"i'unno\", 16611: 'boston', 32806: 'rump', 65767: 'teenage_bart:', 33000: 'superdad', 238: 'right-handed', 239: 'corkscrews', 49192: 'nursemaid', 65778: 'fourth', 65779: 'grade', 65780: 'self', 33015: 'crystal', 65788: 'hard', 33024: 'cheaped', 258: 'homer_', 49195: 'wiggum', 33028: 'shelf', 28589: 'tabooger', 16914: 'shill', 65806: \"hasn't\", 65807: 'changed', 16661: 'suits', 65815: 'dad', 284: 'led', 65822: 'since', 63295: 'sideshow', 16675: 'vehicle', 65829: 'comes', 16679: 'oooo', 298: 'county', 65835: 'carl', 65840: 'lenny', 65843: 'adult_bart:', 49461: 'cozies', 311: 'faces', 65849: 'point', 49471: 'sassy', 16705: 'ignoring', 33092: 'ingested', 49478: 'seat', 49479: 'cushion', 65865: 'truth', 49482: 'park', 8247: 'genuinely', 33102: 'defiantly', 38285: 'shooting', 49488: 'flash', 49489: 'drives', 33107: 'amount', 65876: 'kid', 21902: 'curious', 65879: \"homer's_brain:\", 33116: 'ihop', 49501: 'data', 33119: \"drivin'\", 49504: 'hammy', 16739: 'followed', 65893: 'bartender', 16743: 'begging', 65898: 'milks', 33135: 'absentmindedly', 65906: 'babies', 49532: 'estranged', 16766: 'combines', 65920: 'somebody', 16769: 'handling', 65923: 'lumpa', 65924: 'coal', 49541: 'dropped', 65927: 'stocking', 33161: \"doctor's\", 16778: 'driveability', 65931: 'sitting', 65933: 'sucking', 16782: '4x4', 65939: 'long', 49558: \"tomorrow's\", 49559: 'forecast', 65949: 'christmas', 49567: 'bets', 43760: 'nope', 49572: 'cloudy', 421: \"depressin'\", 33191: 'neanderthal', 49576: 'partly', 49577: 'sunny', 65962: 'drinks', 65964: 'around', 7652: 'pee', 49582: 'guessing', 19109: 'drag', 65971: 'crazy', 65972: 'getup', 16821: 'creeps', 65974: 'barn', 10996: 'immiggants', 49596: 'severe', 49597: 'thunder', 65982: 'part-time', 65984: 'working', 49601: 'ball-sized', 49602: 'hail', 65987: 'santa', 65991: 'mall', 16840: \"ya'\", 51959: '3', 49614: 'pointed', 16848: 'automobiles', 49621: 'spy', 66009: 'pretty', 66010: 'selective', 49628: 'illegal', 49629: 'wagering', 49232: 'reunion', 66019: \"you'll\", 46502: \"who'da\", 33254: 'taylor', 49639: \"weren't\", 16872: 'beefs', 16874: 'fat-free', 49645: \"america's\", 49646: 'enemies', 16879: 'th-th-th-the', 49648: \"blowin'\", 49651: 'homeland', 67121: 'usually', 16886: 'groan', 504: 'pictured', 66041: 'keeps', 66042: 'changing', 2731: 'marvelous', 16893: 'shoulda', 49665: 'blown', 514: 'jury', 517: 'lawyer', 33287: 'ing', 16905: 'krusty', 66063: 'opens', 66064: 'wallet', 66066: 'sees', 49683: 'mm-hmm', 66069: 'empty', 16920: 'indifferent', 66075: 'checks', 66076: 'pockets', 33310: 'flatly', 66079: 'inside', 546: 'pretzel', 66087: 'low', 66089: 'funds', 51975: 'movie', 33324: 'tentative', 66093: 'could', 66094: 'cover', 49711: 'tsk', 560: 'patrons:', 51976: 'somehow', 49716: 'tsking', 11017: 'language', 49721: 'increasingly', 49722: 'aggravated', 57439: 'castle', 30923: 'squirrels', 66115: 'these', 16964: 'roomy', 66118: 'deserve', 66120: 'explanation', 33355: 'voters', 33360: 'november', 66133: 'job', 46521: 'whisper', 16984: 'steak', 66138: 'pay', 16987: '35', 30138: \"what'd\", 49758: 'handsome', 33375: 'busted', 49760: 'suave', 49762: 'debonair', 49773: 'offa', 66160: 'fans', 49777: \"narratin'\", 66162: 'getting', 11027: 'sentimonies', 46526: 'chapter', 66166: 'bit', 66167: 'anxious', 17016: 'country-fried', 26208: 'fire_inspector:', 17018: 'endorsed', 33406: 'practically', 33407: 'everywhere', 49800: \"everyone's\", 49260: 'hungry', 17034: 'federal', 17038: 'ruled', 66191: 'bloodiest', 17041: 'unsafe', 66195: 'year', 66199: \"sittin'\", 17049: 'chorus:', 66203: 'thirsty', 66204: 'bump', 2842: 'reptile', 49823: 'cricket', 49824: 'uniforms', 24688: 'disgracefully', 66211: 'eddie', 30150: 'peppy', 17064: 'lanes', 49833: 'rain', 17068: 'sixty-five', 17069: 'tons', 49838: 'international', 49839: 'short', 49840: 'form', 62920: 'blob', 66228: 'chuckle', 49849: \"'pu\", 49851: 'she-pu', 66236: 'duty', 49857: 'restroom', 30155: 'chuck', 66244: 'though', 33477: 'resenting', 17094: 'utility', 66248: \"that'll\", 17098: 'unexplained', 17099: 'fires', 60194: 'throw', 61127: 'billingsley', 719: 'foam', 17105: 'courts', 49878: 'everyday', 65657: \"dad's\", 33497: 'sleep', 17116: 'crack', 33502: 'appreciate', 49887: 'mimes', 49889: 'tiny', 66274: 'peeping', 17123: 'blinds', 16937: 'comedy', 743: 'spare', 49897: 'sitar', 66284: 'lou:', 17134: 'squirrel', 17135: 'squashing', 66289: 'quiet', 17138: \"smackin'\", 66291: 'boy', 49908: 'saving', 66295: 'nice', 66297: 'enjoy', 66298: 'their', 66299: 'beers', 768: 'stiffening', 52011: 'seminar', 49924: 'sounds', 66310: 'scent', 33544: 'caused', 49929: 'rough', 17162: 'hank_williams_jr', 54743: 'lead', 66317: 'gotten', 66319: 'bobo', 784: 'trenchant', 49938: 'manjula_nahasapeemapetilon:', 66324: 'nervous', 33559: 'medicine', 66329: 'wieners', 49946: 'darjeeling', 49947: 'limited', 46554: 'suspenders', 66335: 'eddie:', 17184: 'blissful', 66337: 'figures', 33570: 'shout', 17187: 'spent', 33572: 'f-l-a-n-r-d-s', 66343: 'stupid', 66344: 'dog', 32848: 'brick', 19250: 'slobs', 57023: 'comic', 66354: 'mom', 66360: 'stuck', 62943: 'harvey', 33596: 'flame', 66365: 'said', 17216: 'rash', 833: 'disappointing', 66373: 'disappointment', 33606: 'indigenous', 33607: 'folk', 66378: 'god', 66379: 'bless', 49996: 'boxer:', 66381: 'soul', 49998: 'pre-recorded', 33616: 'overhearing', 66385: 'really', 33618: 'delightfully', 66387: 'something', 66392: 'blame', 857: 'jer', 50010: 'nards', 33629: 'byrne', 66399: 'dealt', 68411: 'will', 33637: 'singer', 66406: 'crummy', 33639: 'artist', 33641: 'composer', 66410: 'nobody', 33643: 'director', 66412: 'control', 50031: 'rug', 66417: \"can't\", 66418: 'talk', 883: 'grudgingly', 66420: 'way', 17269: 'homesick', 54761: 'somewhere', 8340: 'sugar', 17275: 'diving', 66428: 'least', 17277: 'tourist', 33662: 'el', 33663: 'diablo', 17281: 'micronesian', 17282: 'swamp', 60225: 'garbage', 17288: 'career', 50059: \"mother's\", 50060: 'birthday', 50065: 'panicked', 69074: 'barney', 66455: \"haven't\", 66456: 'met', 17306: 'mirror', 66459: 'boxing_announcer:', 50078: 'carny:', 50079: 'teacup', 50081: \"how'd\", 17317: 'puke-pail', 54769: 'conclude', 50088: 'whispers', 66473: 'gentlemen', 938: 'reed', 940: 'whoo', 33709: 'rewound', 50095: 'rutabaga', 944: 'little_man:', 66481: 'tv-station_announcer:', 18035: 'clams', 949: 'instrument', 66486: 'all-star', 66487: 'boxing', 66489: 'brought', 65695: 'dreams', 957: 'sunk', 33726: 'produce', 62964: 'c', 33732: 'rolls', 968: 'patrons', 66506: 'coming', 17355: \"fendin'\", 50124: 'putty', 66509: 'huh', 17358: 'starlets', 50127: \"bartender's\", 51861: \"showin'\", 17361: 'pointy', 33748: 'kahlua', 50137: 'innocuous', 50140: 'flashbacks', 17373: 'ugliness', 33759: 'coward', 50145: '_timothy_lovejoy:', 33765: \"'im\", 33767: 'fleabag', 62972: 'snackie', 1002: 'healthier', 33775: 'unsanitary', 17393: 'darkest', 68435: 'who', 50164: 'ferry', 66549: 'honey', 11092: 'ugh', 66554: 'problem', 54783: 'fumigated', 66561: 'till', 17411: 'dozen', 33801: 'sweetheart', 50188: 'pointedly', 66573: 'admit', 66574: 'this:', 50191: 'lovejoy', 66580: 'yap', 1045: 'increased', 50199: 'ralph_wiggum:', 50201: 'popping', 1050: 'togetherness', 51021: 'stats', 1052: 'poison', 1055: 'purveyor', 50208: 'roof', 1057: 'mind-numbing', 1058: 'intoxicants', 17444: 'ram', 44226: 'doreen', 52061: 'earth', 33844: \"wearin'\", 50231: 'hilarious', 33853: 'walked', 50241: 'naturally', 66630: 'tv_wife:', 50248: 'animals', 13836: 'busiest', 68857: 'be', 66639: 'tv_husband:', 66648: 'small_boy:', 50265: 'wondering', 17247: 'whatchacallit', 66652: '||semicolon||', 50269: 'judge', 50271: 'outrageous', 50272: 'beard', 50273: 'contest', 17506: 'maxed', 33892: 'dark', 33894: 'dreary', 66668: '_marvin_monroe:', 22034: 'luxury', 66673: 'hi', 66675: 'friends', 33909: 'drunkening', 66681: 'monroe', 66685: 'scene', 66687: 'familiar', 66694: 'help', 66697: 'gimmicks', 50315: \"askin'\", 66700: 'pills', 1166: 'unfamiliar', 66703: 'fad', 66704: 'diets', 66708: 'bliss', 1173: 'tonic', 66711: 'double', 50328: 'dames', 1177: 'mix', 68463: 'babe', 61688: 'compliment', 66718: 'today', 65507: 'four-star', 66721: 'announcer:', 54811: 'adjourned', 33956: 'barber', 66726: 'dr', 66728: 'marvin', 66729: \"monroe's\", 66730: 'family', 17579: 'besides', 66734: '1-800-555-hugs', 33968: 'frat', 66751: 'learn', 50369: 'half', 66754: 'answers', 50371: 'price', 66756: \"life's\", 33989: 'julienne', 50374: 'lighting', 46625: 'praise', 66761: 'bottom', 66764: 'bottle', 54818: 'convenient', 66766: 'heh-heh', 17615: 'tabs', 67691: 'say', 17622: 'ungrateful', 17623: 'ingrates', 34009: 'crumble', 60599: 'geysir', 50398: 'scatter', 34015: 'groin', 50401: 'cockroaches', 66786: 'speaking', 50406: 'walks', 17642: \"renee's\", 50411: 'szyslak', 24787: 'punkin', 68478: 'third', 66807: 'bart_simpson:', 66809: 'thru', 34042: 'shortcomings', 34052: \"havin'\", 65750: 'weird', 34054: 'banquet', 66824: 'calls', 50442: 'scary', 66827: 'uh', 17677: 'worth', 54830: 'having', 66838: 'looking', 50455: 'decent', 17688: 'insured', 34075: 'famous', 34076: 'poulet', 34077: 'au', 34078: 'vin', 34079: 'avec', 34080: 'champignons', 46640: 'yogurt', 34087: 'kisses', 50472: 'rip', 66858: 'jacques', 66859: 'strap', 17711: 'wreck', 50481: 'stretch', 50484: 'tee', 66870: 'runt', 66875: 'hold', 50492: 'allowed', 50495: 'california', 66881: 'gut', 17732: 'awkwardly', 2227: 'full-time', 66887: 'drink', 50504: 'judgments', 66889: 'blood', 1357: 'coughs', 34126: 'botanical', 34127: 'gardens', 34135: 'blossoming', 34138: 'sumatran', 50523: 'legally', 66910: 'our', 66911: 'lives', 34144: 'occurs', 66914: 'try', 66916: 'put', 66918: 'tragedy', 66919: 'behind', 66920: 'us', 67696: 'ape-like', 1386: 'looser', 34157: 'customers-slash-only', 50549: 'beep', 29033: 'rockers', 50554: 'seems', 66939: 'head', 34174: 'replaced', 50560: 'bright', 66945: 'ohhhh', 50564: 'forbidden', 66949: 'sobbing', 50567: \"watchin'\", 17802: 'insist', 28962: 'michael', 66961: \"what's\", 34194: \"mopin'\", 66963: 'matter', 60894: 'chicks', 66967: 'hottest', 66971: 'months', 66976: 'checking', 66979: 'action', 50598: \"how's\", 34215: 'alarm', 17833: 'represents', 66989: 'gave', 50608: 'rupert_murdoch:', 17841: 'olive', 66994: 'because', 66997: 'lousy', 66998: 'picture', 50616: 'jay', 50617: 'leno', 50621: 'jay_leno:', 34239: 'tummies', 1472: 'sneeze', 1473: 'guard', 67010: 'staying', 50630: 'iran', 34248: 'mess', 65517: \"c'mere\", 50637: 'dangerous', 50638: 'weapon', 50639: 'known', 50641: 'man:', 50643: 'b', 34260: 'elves:', 67029: 'pal', 50647: 'oil', 50648: 'rig', 52132: 'serum', 34266: 'cakes', 17883: 'toy', 34268: 'pets', 67037: 'dingy', 67038: 'flophouse', 1506: 'cracked', 1511: 'accepting', 50664: 'disappear', 1513: 'stamps', 50669: 'nbc', 67055: 'al', 67056: 'koholic', 35753: 'peaked', 34299: \"i'd'a\", 67068: 'grabbing', 11178: 'belt', 50687: 'howya', 1536: 'combination', 65792: 'such', 67075: 'yellow-belly', 67076: 'rat', 1541: 'patron_#1:', 34311: \"y'money's\", 17929: 'cops', 34314: 'counter', 65794: 'screw', 68525: 'tavern', 34320: 'delivery_boy:', 67089: 'kill', 67090: 'ya', 67093: 'hangs', 5721: 'teenage_barney:', 260: \"cont'd:\", 17947: \"department's\", 17948: 'moonlight', 50717: 'strategy', 17950: 'cruise', 67104: 'punk', 67105: 'someday', 50722: 'manager', 67109: 'fill', 67110: \"'er\", 52145: 'flower', 67116: 'everything', 34351: 'leonard', 57608: 'rest', 67125: 'quick', 67129: 'peanuts', 67132: 'hunka', 17981: 'righ', 34366: 'competitive', 67137: 'couple', 67138: 'pickled', 67139: 'eggs', 1604: 'store-bought', 1605: 'drollery', 67142: 'outta', 34377: 'mona_simpson:', 34382: 'carlson', 50767: 'obama', 67153: 'feel', 1618: 'application', 67155: \"goin'\", 67157: 'tonight', 67159: 'jar', 34392: 'macgregor', 8463: 'raining', 18012: 'tracks', 34397: 'musketeers', 1631: 'ons', 18017: '10:15', 34407: 'stevie', 67177: 'situation', 18026: 'wham', 63079: 'goblins', 1644: 'measurements', 18029: 'insurance', 67182: 'contemplates', 67184: 'egg', 34418: 'accusing', 67187: 'jams', 50806: 'booth', 67193: 'might', 50816: 'cliff', 50817: 'lee', 67202: \"'cause\", 50820: 'superior', 50822: 'zack', 18055: 'troubles', 50824: 'grenky', 1679: 'salary', 50834: 'completely', 50835: 'agree', 1684: 'wage', 52987: 'diddilies', 50839: 'following', 50840: 'colossal', 50841: 'exception:', 50845: 'inning', 18079: 'rap', 50849: 'loss', 67235: 'anyone', 50852: 'domed', 35800: 'buddies', 55222: 'maman', 1706: 'unforgettable', 1707: 'weekend', 50860: 'grienke', 67245: 'yells', 50862: 'unless', 50866: 'bunion', 63091: \"talkin'\", 286: 'richer', 1719: 'vacations', 1720: 'someplace', 50873: 'notably', 50874: 'ineffective', 67259: 'drunkenly', 1728: 'moxie', 18118: 'betrayed', 34503: 'devils:', 1736: 'collette:', 67277: 'disappointed', 1744: 'methinks', 1746: \"shan't\", 54069: 'selection', 34519: 'honored', 67291: \"barney's\", 50910: 'dexterous', 67295: \"larry's\", 67297: 'pig', 34530: 'apulina', 50916: 'poin-dexterous', 67301: 'pigs', 67303: 'except', 67306: 'difference', 50923: 'understand', 67308: 'once', 18157: 'y-you', 34542: 'anniversary', 67311: 'while', 67315: 'crawl', 50933: 'key', 50935: 'understanding', 67321: 'hose', 67322: 'ourselves', 34555: 'including', 34557: 'bouquet', 67326: 'act', 19413: 'wave', 67328: 'human', 67329: 'beings', 34562: 'earrings', 67333: 'buy', 50950: 'developed', 18184: 'hmf', 1801: \"mcstagger's\", 50954: 'james', 67339: 'take', 34573: 'hilton', 18190: 'locked', 50959: 'bill_james:', 54568: 'carl:', 67349: 'candles', 67351: 'tablecloth', 50968: 'taxes', 34586: 'paris', 67356: 'yards', 50973: 'sabermetrics', 67360: 'gee', 50977: 'eight-year-old', 27611: 'bush', 67364: 'evening', 67366: 'nah', 1832: 'mcstagger', 50985: 'sagacity', 67370: 'smart', 67372: 'fall', 18221: 'clearing', 50991: 'single-mindedness', 34609: 'charity', 50994: 'steinbrenner', 34611: 'labels', 67380: 'done', 67383: 'leans', 51000: 'stein-stengel-', 67386: 'after', 67387: 'dinner', 54618: 'makes', 1857: 'mozzarella', 67394: 'going', 18245: 'graveyard', 67399: 'fanciest', 67400: 'motel', 67402: 'town', 68578: 'into', 51024: 'none', 51029: 'ratio', 51032: 'seats', 34649: \"city's\", 63119: 'fellas', 18269: 'we-we-we', 51038: 'ordered', 1887: 'harv:', 67424: 'loud', 67426: 'clear', 64716: 'apu_nahasapeemapetilon:', 51046: 'sobo', 38545: \"breakin'\", 67433: 'morning', 1900: 'chain', 18285: 'brandy', 51054: 'doug:', 51057: 'conversion', 51058: 'factor', 46739: 'toledo', 51060: 'ginger', 34677: 'society_matron:', 67446: 'president', 68585: 'scum-sucking', 1912: 'dice', 33087: 'paramedic:', 67453: 're:', 51070: 'refreshingness', 51072: 'effervescence', 34690: 'remote', 51075: 'benjamin:', 67460: 'an', 67461: 'election', 51078: 'minus', 51079: 'tang', 67467: 'deals', 67468: 'where', 34701: 'sharity', 67470: 'close', 67472: 'bars', 51089: 'advertise', 67474: \"isn't\", 51092: 'specials', 51094: 'scientific', 18328: 'fwooof', 66078: 'pulls', 18336: 'hawaii', 67490: 'super', 34723: 'woman_bystander:', 67498: 'government', 65863: 'moment', 1964: 'harv', 67503: 'back', 1973: 'dies', 18360: 'renee:', 1978: 'delivery_man:', 42785: 'authorized', 67516: 'capitol', 67517: 'city', 51136: 'annus', 67521: 'aw', 1987: 'syrup', 18372: 'corpses', 42676: 'jeers', 51147: \"year's\", 67532: \"we're\", 67535: 'curiosity', 51152: 'latin', 2001: 'hooked', 18387: 'renee', 18389: 'dearest', 51350: 'compels', 67552: 'being', 51169: 'fixes', 67555: 'those', 2020: 'waitress', 67558: 'sits', 337: 'paper', 18409: 'yelp', 67562: 'telling', 34795: 'mamma', 67564: 'story', 57682: 'america', 67567: 'he', 67568: 'became', 67570: 'loser', 34803: 'jumps', 34807: 'population', 18426: 'murderously', 11263: 'boxers', 34813: 'nonchalant', 65339: 'premise', 2053: 'hundreds', 67590: \"c'mom\", 2055: 'thousands', 51209: 'dank', 18445: 'oh-ho', 24920: 'afloat', 67602: 'started', 67605: 'nuclear', 67606: 'plant', 67607: 'employees', 67609: 'spouses', 51226: 'courthouse', 34843: 'confident', 51229: 'slip', 52229: 'irrelevant', 34849: 'cents', 67619: '||quotation_mark||', 51237: 'record', 67622: 'springfield', 67623: 'stadium', 68615: 'busy', 67630: 'biggest', 67631: 'decision', 67633: 'simpsons', 67635: 'faced', 34868: 'accept', 34869: 'ninety-eight', 67638: \"should've\", 67639: 'listened', 34874: 'outstanding', 67643: 'instead', 60426: 'safety', 67647: 'dumb', 49171: 'hospital', 18500: \"g'night\", 67653: \"shouldn't\", 67654: 'have', 67655: 'called', 66136: 'able', 51276: 'fat_tony:', 51277: 'exquisite', 67663: 'bite', 51281: 'reward', 65891: 'kirk_voice_milhouse:', 67668: 'bites', 67669: 'tongue', 51287: 'surprise', 67676: 'sighs', 33125: 'burger', 34914: 'achem', 67683: \"costume's\", 67684: 'buried', 2149: 'cuz', 34918: 'flush', 67687: 'as', 67689: 'son', 67690: 'would', 18539: 'ohh', 51309: 'scotch', 67695: 'sad', 34928: 'jacks', 67697: 'dude', 67701: 'wow', 18552: 'sincerely', 2171: 'smoothly', 51325: 'frankly', 34942: 'multi-national', 34943: 'corporation', 67716: 'hanging', 2183: \"duff's\", 67720: 'word', 67723: 'become', 67725: 'center', 67727: 'attention', 68632: 'keep', 34964: 'freeze', 51349: 'addiction', 67734: 'riveting', 34969: 'commission', 57711: 'progress', 34974: 'ziff', 34980: 'manipulation', 51365: 'executive', 34982: 'securities', 67752: 'wonder', 67754: 'stories', 34988: 'macho', 18605: 'beady', 67758: 'humiliation', 34991: 'scum', 67762: 'popular', 34995: 'undermine', 35001: 'investor', 35002: 'confidence', 51388: 'average-looking', 35006: 'affects', 18626: 'naval', 18627: 'reserve', 51396: '_burns_heads:', 35014: 'thirty', 35016: 'shares', 35019: 'stock', 35022: 'sec_agent_#1:', 67791: \"rasputin's\", 35025: 'majority', 67794: 'reach', 67800: 'hand', 68644: 'told', 67803: \"professor's\", 67806: 'patented', 67807: 'coma', 35040: 'inherent', 35041: 'legal', 51426: 'heads', 67812: 'ask', 35045: 'sec_agent_#2:', 68647: 'before', 67820: 'hell', 2285: 'swine', 67823: 'match', 51440: 'second', 35059: 'arrest', 67832: 'show-off', 35065: 'artie', 67836: 'kissing', 67837: 'his', 67838: 'own', 46805: 'shocked', 67842: 'yelling', 30422: 'sloppy', 18696: 'strictly', 18697: 'forbids', 35083: 'malfeasance', 67853: 'boo', 67861: 'mouth', 67862: 'full', 2327: 'germany', 51481: 'helped', 2333: 'east', 67871: 'engraved', 51488: 'hangout', 35107: 'puts', 57734: 'system', 67878: 'richard:', 18733: 'deer', 67886: 'two', 30429: 'turkey', 19507: 'dictating', 18741: 'hah', 67894: 'four', 68274: 'honest', 51514: 'men', 35131: 'result', 44085: 'cowboy', 67907: 'five', 67911: 'six', 18761: 'thorn', 35146: 'tape', 51531: 'offense', 67916: 'barflies:', 16781: 'sturdy', 67920: 'seven', 18769: 'grants', 57742: 'starve', 35158: 'distraught', 67928: 'nine', 51551: 'whatchamacallit', 67936: 'eleven', 8592: 'puff', 35172: 'joined', 51557: 'swishkabobs', 18793: 'wondered', 67947: 'ref', 67949: 'issuing', 67951: 'warning', 67953: 'rasputin', 57747: 'tap', 67956: 'tv_announcer:', 35190: 'showed', 67959: 'tv', 18809: 'whistles', 35195: 'louse', 2429: 'cleveland', 2430: 'browns', 67969: 'why', 67972: 'referee', 67973: 'permitting', 68673: 'words', 67979: 'smitty:', 68674: \"won't\", 67983: \"dyin'\", 57752: \"cat's\", 18835: 'heatherton', 35222: \"what'll\", 18839: 'ironed', 67995: 'guess', 18847: 'tempting', 51620: \"grandmother's\", 51621: 'wedding', 51622: 'urinal', 35241: 'jogging', 68010: 'better', 30450: 'tobacky', 68014: 'people', 18863: 'thoughtfully', 35251: 'pardon', 35254: 'intruding', 68026: 'day', 18875: 'flashing', 18876: 'badge', 51645: \"getting'\", 18878: 'united', 18879: 'states', 68032: \"they're\", 51652: 'renovations', 35269: \"livin'\", 36636: 'mull', 68041: 'they', 68042: \"ain't\", 51659: 'finished', 18894: 'wiping', 35282: 'sending', 35284: 'husband', 68053: \"he'd\", 38649: 'kazoo', 68058: 'larry:', 68062: 'chick', 35297: 'swooning', 51683: 'tradition', 68069: 'even', 68070: 'ladies', 68071: 'night', 30460: 'spacey', 18922: 'signal', 35309: 'knees', 68081: 'knock', 35315: 'odor', 35316: 'eaters', 18933: 'ball', 51706: 'body', 38820: 'negative', 51709: 'lainie:', 68095: 'above', 68098: 'name', 18949: 'activity', 51718: 'carlotta:', 18951: 'cause', 35927: 'van', 68110: \"i'd\", 68114: 'forgive', 51731: 'stir', 68117: 'doing', 35350: 'beanbag', 51735: 'jã¤germeister', 68120: 'thing', 51738: 'pink', 51739: 'lemonade', 51741: 'slice', 51744: 'strawberry', 51745: 'chapstick', 35362: 'temple', 68132: \"we've\", 68133: 'squabbled', 51750: \"cupid's\", 35367: 'artie_ziff:', 35369: 'gentle', 18986: 'commit', 68140: 'much', 68143: 'mean', 51760: 'wazoo', 68149: 'different', 68154: 'washed', 2619: 'monkeyshines', 68156: 'pants', 19005: 'crimes', 51775: 'drains', 19009: 'fired', 68162: 'pocket', 35398: 'freak', 2631: 'kinds', 19022: 'moonshine', 5901: 'worthless', 19026: 'basement', 51798: 'slightly', 51799: 'concerned', 68184: 'money', 19033: 'scam', 19035: 'pulled', 35420: 'nightmares', 2654: 'resist', 19039: 'uhhhh', 68192: 'worse', 68284: 'sure', 68197: 'afraid', 68199: 'from', 2670: 'musses', 52328: 'war', 51829: 'scram', 19062: 'george', 68216: 'side', 35449: 'orders', 68219: 'mother', 35452: 'umm', 51840: \"tellin'\", 49600: 'golf', 19074: 'seething', 68229: 'dame', 68231: 'blew', 51849: 'happier', 19083: 'charlie:', 35471: 'contemptuous', 35473: 'chateau', 35474: 'latour', 19091: 'militia', 35476: 'eighteen', 35477: 'eighty-six', 26605: 'nectar', 46873: 'banquo', 68249: 'saying', 51866: 'crinkly', 19100: 'sorts', 68254: 'thinking', 19103: 'officials', 68256: \"she's\", 68257: 'been', 68261: 'ten', 3364: 'grumbling', 68264: \"you've\", 68265: 'had', 68266: 'three', 68267: 'children', 68268: 'together', 19117: 'agent_johnson:', 19122: 'conspiracy', 2740: 'play/', 63262: 'hook', 2743: 'trees', 2747: 'sees/', 35516: 'initially', 19135: 'musta', 19136: 'ratted', 51905: 'eva', 51906: 'braun:', 459: 'crisis', 2756: 'please/', 48647: 'gator:', 2761: 'teddy', 35530: \"collector's\", 35531: 'guide', 68301: \"i'll\", 19150: 'transmission', 51920: 'hitler', 68306: 'bed', 68307: 'stuff', 68309: 'maybe', 51928: 'spending', 51929: \"valentine's\", 35546: 'dry', 19163: 'disaster', 59559: 'brewed', 2784: 'mirthless', 49616: 'ahem', 51939: 'huhza', 2788: 'damned', 68326: 'want', 35964: 'friction', 19180: 'wishful', 68334: 'whether', 19185: 'elect', 68338: 'anymore', 19191: 'vengeful', 68344: 'should', 51963: 'whoopi', 38698: 'texan', 35583: 'bidet', 2817: 'barkeep', 35591: 'step', 35592: 'ladder', 35596: 'fountain', 66653: 'calmly', 68371: 'if', 68372: \"it'll\", 68373: 'make', 51990: 'secrets', 68375: 'shut', 68378: 'start', 49626: 'eye', 51999: '_kissingher:', 68384: 'angry', 2853: 'saucy', 52007: 'tomorrow', 68395: 'tough', 68397: 'need', 68398: 'refreshment', 52015: 'airport', 68400: 'ahh', 52017: 'lodge', 68402: 'good', 68403: 'old', 68404: 'trustworthy', 2869: 'sector', 2870: '7g', 52023: 'ready', 2873: 'terminated', 52027: 'couch', 52028: 'potato', 68413: 'die', 52031: 'tornado', 68417: 'alright', 52363: 'delighted', 68422: 'wife', 68423: 'straight', 52040: 'kissingher', 19596: 'bathing', 68426: 'eyes', 68428: 'tell', 52051: 'lose', 68436: 'am', 68438: 'kidding', 22329: 'studied', 68443: 'more', 68444: 'than', 68445: 'ever', 68448: 'marge_simpson:', 35681: 'in-in-in', 35683: 'chipped', 68452: 'too', 68753: \"that's\", 19305: 'triumphantly', 68458: 'scare', 35691: 'nail', 35692: 'sticking', 2927: 'example', 68467: 'okay', 68474: 'fifteen', 68475: 'minutes', 49642: 'installed', 52094: 'casting', 68479: 'off', 52096: 'pall', 68481: 'every', 35715: 'poke', 68487: 'per', 68488: 'customer', 52107: 'pfft', 68492: 'domestic', 52109: 'dungeon', 68494: 'only', 68500: 'no', 68501: 'sharing', 68509: 'call', 68510: 'marge', 19359: 'u2:', 19361: 'sanitation', 68514: 'ha', 2979: 'shaken', 35748: 'bachelor', 19367: 'blokes', 19369: 'courteous', 68522: 'hello', 19371: 'easygoing', 68524: \"moe's\", 2989: 'sing-song', 19374: 'the_edge:', 68527: 'birthplace', 35761: 'and/or', 68530: 'rob', 68531: 'roy', 19380: 'overflowing', 52150: 'voice:', 19385: 'bono:', 68841: 'guys', 68541: 'sec', 19391: 'arse', 68544: 'calling', 19393: 'showing', 52162: 'hotenhoffer', 68547: 'room', 66038: 'catch', 52167: 'pharmaceutical', 68552: 'there', 46924: 'sticking-place', 68555: 'here', 52174: \"wonderin'\", 68562: 'everybody', 3029: 'heavens', 19414: 'knocks', 68567: 'butts', 52184: 'occupation', 68573: 'wait', 52194: 'sir', 68579: 'phone', 19431: 'omit', 68584: 'little', 19433: 'detail', 68586: 'pus-bucket', 52203: 'renders', 52206: 'tolerable', 57195: 'higher', 68592: 'hands', 52209: 'normals', 68597: 'gonna', 68598: 'pull', 68601: 'eyeballs', 68602: 'with', 68604: 'corkscrew', 35839: 'chug-a-lug', 68609: 'sadly', 35842: 'a-lug', 3076: 'stamp', 35845: 'chug', 66049: 'reaches', 35850: 'boozy', 68619: 'another', 68621: 'beer', 52238: 'elaborate', 3088: 'slays', 68628: 'sniffles', 17561: 'pinchpenny', 52249: 'extract', 68634: 'down', 52254: 'synthesize', 52256: 'drug', 19489: 'spellbinding', 63323: 'pays', 35876: 'gary_chalmers:', 52262: 'scrutinizes', 34474: 'embarrassing', 68649: 'but', 68650: 'sometimes', 19500: 'thomas', 68654: 'work', 52271: 'drop', 35891: 'disposal', 68661: 'smile', 19511: 'fluoroscope', 35896: 'boisterous', 19514: 'repeating', 19515: 'telegraph', 19637: 'temples', 3137: 'na', 35906: 'exciting', 19523: 'breathless', 52294: 'ah-ha', 35915: 'photographer', 19532: 'firm', 19533: 'believer', 52302: 'fritz', 19535: 'fletcherism', 68690: 'please', 52310: 'grampa', 52311: 'grease', 68699: 'love', 19549: 'heliotrope', 3166: 'determined', 38757: 'bride', 13199: 'scully', 68709: 'european', 52326: 'walther_hotenhoffer:', 35943: 'notch', 68712: 'burps', 35948: 'wiggle', 68717: 'screams', 19567: 'wore', 19568: 'pajamas', 52337: 'grampa_simpson:', 3188: 'freshened', 3189: 'hourly', 68727: 'home', 52344: 'germans', 68732: 'run', 68738: 'so', 52356: 'guest', 68743: 'hear', 35976: 'killjoy', 68747: 'fight', 35980: 'wussy', 3213: 'provide', 68751: 'yeah', 35984: 'grinch', 66072: 'whoops', 58069: 'stern', 68756: 'eight', 68757: \"o'clock\", 68760: 'place', 52380: 'message', 68770: 'hey', 68774: 'how', 52403: 'm', 19636: 'rubs', 68789: 'was', 68790: 'either', 52407: 'wiener', 68792: 'or', 54905: 'facebook', 68794: 'mechanical', 68795: 'bull', 19646: 'edison', 68800: 'made', 68802: 'choice', 19651: 'menlo', 68805: 'stand', 68806: 'by', 36040: 'shaking', 3276: 'coyly', 19661: 'tasimeter', 3278: 'h', 19664: 'ore', 19665: 'separator', 68818: 'minute', 68820: 'let', 68822: 'check', 52441: 'dammit', 19675: 'watt', 52444: 'typed', 3293: 'justify', 19678: 'steam', 19679: 'engine', 36066: 'bugging', 68835: 'come', 68836: 'on', 68838: 'one', 27857: 'quitcher', 35026: 'shareholder', 52457: 'rapidly', 36075: 'picked', 68845: 'sexual', 3310: 'england', 68849: 'oh', 68851: 'sorry', 36084: 'zoomed', 68855: 'it', 52472: 'donated', 52436: 'when-i-get-a-hold-of-you', 52474: 'dollars', 68859: 'bad', 52476: 'haiti', 3325: 'modest', 19711: 'unusually', 19712: 'focused', 68866: \"it's\", 3331: 'stacey', 3332: 'doll', 52485: 'trying', 68871: 'think', 19720: 'squeal', 3337: 'kitchen', 68874: 'trouble', 66035: \"he's\", 68879: 'lighten', 68880: 'up', 65579: 's', 3346: 'feminist', 3347: 'newsletter', 19732: 'waste', 68885: 'making', 68886: 'happy', 68887: 'hour', 68888: 'bitterly', 3353: 'daaaaad', 19739: \"somebody's\", 68893: 'ah', 19742: 'gus', 36128: 'starting', 68897: \"i've\", 68898: 'gotta', 68827: 'bar', 19748: 'yoink', 68901: 'date', 57905: 'times', 68904: 'big', 60636: 'glass', 68906: 'fat', 19755: 'peeved', 68908: 'snotty', 68909: 'sister-in-law', 3374: 'usual', 52528: 'straining', 68916: 'intrigued', 3382: 'wad', 68919: 'does', 3384: 'bills', 33332: 'ruin', 52540: 'strong', 19773: 'citizens', 68926: 'homer_simpson:', 8757: 'sensible', 68928: 'hopeful', 36163: 'bail', 68932: \"wife's\", 68933: 'ugly', 52550: \"y'see\", 19784: 'watered', 68938: 'wheel', 68939: 'her', 19788: 'highball', 52450: 'd', 68942: 'homer', 52559: 'buttons', 68944: \"i'm\", 3409: 'thirty-five', 68947: 'picky', 3415: 'sagely', 68956: 'then', 68957: 'when', 68959: 'got', 68960: 'out', 68961: 'of', 38849: 'bum:', 68963: 'service', 68967: 'the', 68968: 'next', 68969: 'few', 68970: 'years', 68973: 'blur', 39395: 'wobbly', 19824: 'derisive', 19825: 'snort', 68979: \"where's\", 68980: 'skinner', 27881: 'lately', 68985: 'decided', 68986: 'we', 68987: 'loved', 68990: 'enough', 19839: 'grocery', 36224: \"bringin'\", 68993: 'see', 68994: 'each', 68995: 'other', 68996: 'again', 3461: 'son-of-a', 69001: 'hope', 69003: 'can', 69004: 'find', 69006: 'man', 69007: 'like', 52624: 'sue', 30616: 'pepper', 69011: 'thinks', 69013: 'beat', 19862: 'youuu', 69015: 'patty', 69017: 'are', 69019: 'throwing', 36252: 'sobriety', 69021: 'your', 69022: 'last', 52639: 'contented', 69024: 'at', 69025: 'happiness', 69026: 'just', 69027: 'for', 69028: 'me', 69029: '||question_mark||', 36263: 'urge', 69032: 'yes', 36265: 'sober', 19882: 'ointment', 19883: 'aisle', 69036: 'thanks', 3502: \"ma's\", 69039: 'patty_bouvier:', 69040: 'now', 69041: \"let's\", 69042: 'get', 69043: 'some', 69044: 'pancakes', 36278: 'peter', 69047: 'selma_bouvier:', 69048: 'listen', 68852: 'principal', 69051: 'i', 69055: '||left_parentheses||', 69056: 'disdainful', 69057: '||right_parentheses||', 69058: 'eh', 69062: 'she', 69063: 'broke', 69064: 'my', 69065: 'heart', 3530: 'brunch', 3531: 'spectacular', 52685: 'listening', 69070: 'moe_szyslak:', 69071: \"don't\", 69072: 'worry', 68856: 'must', 19922: 'bigger', 69076: 'time', 69077: 'heals', 69078: 'all', 36089: 'flying', 19928: 'coy', 69081: '||return||', 69082: 'barney_gumble:', 3547: 'gotcha', 52700: 'kirk_van_houten:', 69085: 'what', 36318: 'penmanship', 69087: 'you', 69088: 'know', 69090: \"you're\", 69091: 'right', 69092: '||exclamation_mark||', 69093: 'and', 69094: 'look', 69095: '||comma||', 69096: 'a', 69097: 'whole', 69098: 'pitcher', 69099: 'to', 69100: 'myself', 69101: '||period||', 55208: 'annoyed', 36339: 'sucks', 68860: 'connection', 36344: 'anyhoo', 19962: 'dismissive', 3580: 'bookie', 52740: 'foibles', 30630: 'dash', 3330: 'malibu', 19984: 'kim_basinger:', 49752: 'presided', 52759: 'freaky', 52760: 'ad', 52761: 'campaign', 52763: 'running', 36385: 'cyrano', 20004: 'ron_howard:', 21943: 'traitor', 6065: 'gig', 52778: 'single', 3628: \"bettin'\", 20015: 'statesmanlike', 68872: \"bart's\", 52800: 'slipped', 52803: 'mickey', 3653: 'football', 52807: 'churchy', 44858: 'environment', 20049: 'gentleman:', 52819: 'fault', 3668: 'forty-five', 60686: 'pawed', 3672: 'pre-game', 3343: 'prints', 3682: 'actor', 3684: 'mcclure', 3688: 'sitcom', 3690: 'premiering', 3693: 'coincidentally', 24555: 'upsetting', 30129: 'settled', 3709: \"show's\", 52871: 'boneheaded', 3720: 'handle', 52876: \"seein'\", 3728: 'apartment', 3731: 'retired', 52884: 'brainheaded', 68889: 'ironic', 24575: 'coherent', 68320: 'lord', 20126: 'doctor', 52901: \"lookin'\", 36519: \"bar's\", 52904: 'fence', 3753: 'troy_mcclure:', 36523: 'americans', 3757: 'fell', 20142: 'polenta', 36528: 'permanent', 36529: 'visas', 3762: 'script', 17011: 'hammer', 3764: 'bret', 3768: 'recent', 20153: 'life-threatening', 3772: 'irs', 3773: 'sealed', 36544: 'dutch', 3778: 'bret:', 52934: 'across', 14284: 'shopping', 36556: \"leavin'\", 52941: 'continuing', 3794: 'kickoff', 36566: \"president's\", 3799: 'kicks', 36568: 'radio', 52953: 'sheet', 52956: 'fold', 36574: 'rebuttal', 41044: 'kick', 52961: 'wistful', 20194: 'deadly', 20195: 'procedure', 52968: 'prayers', 3819: 'position', 52973: 'choked', 3823: \"buffalo's\", 20208: 'kidney', 36594: 'respect', 52983: 'beneath', 52985: 'iddilies', 49791: \"town's\", 53593: 'snake_jailbird:', 3855: 'gambler', 53008: 'christian', 53009: 'underpants', 20242: 'donor', 20243: 'sucker', 20244: 'lists', 3862: 'score', 3868: 'fourteen:', 20253: 'spine', 20256: 'vestigial', 53027: 'wuss', 36645: 'mugs', 36647: \"thinkin'\", 53032: 'moved', 20266: 'plaintive', 3884: 'yea', 53039: 'confession', 3888: 'duff_announcer:', 53041: 'make:', 3893: 'half-back', 3895: 'beer-dorf', 53048: 'solely', 36665: 'written', 36666: 'symphonies', 53051: 'noble', 53052: 'intention', 36670: 'shakespeare', 56323: 'trench', 20293: 'buttocks', 36684: 'frosty', 36687: 'fuhgetaboutit', 68920: 'this', 20310: 'morose', 68921: 'selma', 53081: 'ned', 49807: 'ones', 53085: 'krabappel', 53091: 'fox', 20326: 'original', 17043: 'highway', 36725: 'inspector', 30697: 'squishee', 53113: 'surprised', 19775: 'murdered', 20356: 'eyeing', 36742: 'filth', 63468: 'mop', 3983: 'ticks', 53137: 'two-thirds-empty', 53139: 'mug', 53598: 'drunks', 55278: 'wound', 20376: 'hostile', 53150: 'poetry', 4000: 'scores', 14320: 'wise', 20387: \"'round\", 4004: \"fans'll\", 68934: 'sister', 4006: 'looting', 20393: 'paid', 36779: 'hideous', 4013: 'lone', 4020: 'handoff', 36791: 'frankie', 66207: 'log', 53180: 'comic_book_guy:', 53182: 'email', 53183: 'address', 53185: 'edna-lover-one-seventy-two', 4034: 'touchdown', 20419: 'dime', 53190: 'lowest', 68940: 'in', 52557: 'pushes', 4048: 'dallas', 4049: 'cowboys', 4050: 'wins', 36819: 'fella', 4053: 'twenty-nine', 20439: 'shove', 20442: 'puke-holes', 53212: \"edna's\", 53213: 'amazing', 20452: 'reserved', 53221: 'drummer', 53223: 'aerosmith', 53226: 'joey_kramer:', 53227: 'yup', 36849: 'malted', 36852: 'tooth', 53237: 'edna', 53240: \"couldn't\", 2864: 'sieben-gruben', 36864: 'blinded', 20483: 'semi-imported', 60148: 'sixty-nine', 20486: 'guzzles', 36874: 'fondly', 68951: 'burp', 36881: \"soundin'\", 53266: 'gulps', 63491: \"high-falutin'\", 53268: 'plucked', 20501: 'generosity', 53270: 'peach', 20503: 'greatly', 20504: 'appreciated', 66223: 'pretzels', 36897: 'thorough', 36898: 'inspection', 47110: 'drederick', 36902: 'winks', 52572: 'strangles', 4139: 'scratching', 36908: 'infestation', 4141: 'chin', 18687: 'joining', 53297: 'wikipedia', 36914: 'sanitary', 36915: 'utensils', 20535: 'stagey', 36920: 'health_inspector:', 53308: 'inspired', 36925: 'stored', 53312: 'frankenstein', 20548: 'roach', 3425: 'sweaty', 20559: 'shrugging', 53328: 'flanders', 4179: 'stinky', 4182: 'sniffing', 8889: 'heather', 36955: 'parked', 61021: 'else', 36960: 'hydrant', 20578: 'hubub', 8891: 'fortensky', 4198: \"england's\", 8892: 'remains', 53355: 'plain', 53356: 'neighbor', 53362: 'jerks', 60698: 'pissed', 53371: 'cruel', 53373: 'especially', 4223: 'wade_boggs:', 53376: 'joey', 53377: 'kramer', 36999: 'yourselves', 53389: 'bagged', 53391: 'tiger', 4241: 'boggs', 20630: 'blessing', 6688: 'mither', 20632: 'disguise', 37019: 'exhale', 4258: 'elder', 47131: 'house', 53412: \"men's\", 20648: 'championship', 4268: 'palmerston', 20655: 'ruuuule', 37040: 'hunky', 37041: 'dory', 52595: 'warmly', 53429: 'prompting', 20663: 'die-hard', 53433: \"other's\", 22559: 'murmur', 53437: 'sen', 37055: 'health', 37056: 'code', 58059: 'deeply', 20678: 'thoughts', 53447: 'drawing', 4298: 'exploiter', 53451: 'cesss', 4303: 'ignorant', 68551: 'is', 53458: 'surprising', 53459: 'entrance', 37076: 'starters', 30404: 'stools', 4313: \"jackpot's\", 37082: 'predecessor', 53468: 'jewelry', 53470: 'pronto', 4326: 'spitting', 37101: 'trash', 37104: \"'til\", 37105: 'wednesday', 4340: 'boozehound', 37114: 'new_health_inspector:', 37115: 'chicken', 37116: 'skins', 53501: \"linin'\", 37118: 'soap', 37119: 'dispenser', 53505: 'presidents', 20738: 'microphone', 37123: 'cigarette', 20740: 'woooooo', 53513: \"tryin'\", 37131: 'toilet', 53517: 'hero', 67133: 'beef', 20760: 'root', 37146: 'violations', 4380: 'gals', 4385: 'young_barfly:', 20771: 'ga', 53541: 'upgrade', 53543: 'ha-ha', 54157: 'underbridge', 53548: 'amazed', 37169: 'anybody', 53555: 'commanding', 20737: \"brockman's\", 37177: 'john', 37182: 'danny', 20801: 'wooooo', 4426: 'moonnnnnnnn', 32763: 'slim', 53580: 'question', 37199: 'mountain', 30776: 'promise', 53586: 'appropriate', 53587: 'reaction', 19854: 'absorbent', 4439: 'quarter', 37208: 'roses', 37209: 'falling', 53595: 'exasperated', 20828: 'outs', 37214: \"'tis\", 53600: 'sooo', 53601: 'boring', 37222: 'bide', 11665: 'damage', 19243: 'slogan', 53610: 'fresco', 66279: 'terrorizing', 37229: 'tribute', 20849: 'j', 20851: \"'s\", 20853: 'jumping', 20854: 'jesus', 37239: 'owner', 53624: 'jailbird', 53631: 'stealings', 53635: 'wayne', 37254: 'middle', 37259: 'e', 37263: 'acceptance', 20882: 'technical', 4500: 'fudd', 53653: 'wayne:', 20886: 'stan', 20887: 'kadlubowski', 20890: 'dennis_conroy:', 53661: 'needed', 4513: 'hillbillies', 4515: 'blind', 20901: \"'topes\", 58097: 'likes', 53673: \"speakin'\", 20919: 'rumaki', 69023: 'chance', 53692: 'farthest', 37313: 'hafta', 53702: \"someone's\", 53703: 'throat', 4556: \"smokin'\", 53710: 'drank', 4564: 'cummerbund', 4566: 'tight', 20952: 'injury', 53722: 'father', 49914: 'gheet', 53728: 'drove', 20963: 'sports_announcer:', 34523: 'apu', 20969: 'champs', 53740: 'roz', 20973: 'harrowing', 53744: 'burns', 53746: 'ditched', 20979: 'enjoys', 37365: 'crestfallen', 20984: 'scornful', 53753: 'assistant', 20989: 'bronco', 20990: 'nagurski', 17152: 'canyoner-oooo', 37381: 'trusted', 53768: 'outside', 21003: 'reconsidering', 66308: 'has', 4642: 'furniture', 37414: 'answering', 36273: 'sponsor', 53802: 'lady-free', 53804: 'eighty-three', 21037: 'brightening', 4655: 'frazier', 21042: 'coupon', 53812: 'standing', 55390: 'unfortunately', 52623: '_zander:', 36276: 'white_rabbit:', 4666: 'riding', 53825: 'belches', 25355: 'mount', 53828: 'roz:', 21061: 'travel', 21062: 'agency', 66169: 'folks', 37448: 'partner', 37450: 'nor', 36279: 'lorre', 21069: 'charter', 37458: 'chum', 37462: 'acquaintance', 53847: 'value', 37465: 'pen', 17167: 'canyonero', 37469: 'parrot', 21092: 'dreamily', 53863: 'souvenir', 37480: 'contact', 2339: 'west', 4714: 'washer', 30163: 'mcbain', 53872: 'sizes', 21109: 'quarterback', 4726: 'dryer', 1794: 'bannister', 37499: 'blocked', 53893: \"wouldn't\", 21128: 'coach:', 53898: 'hare-brained', 49943: 'bags', 4748: 'religious', 52674: 'pointless', 37519: 'lips', 53904: 'girlfriend', 53905: 'pillows', 53907: 'kyoto', 37531: 'protecting', 37533: 'investment', 4766: 'maximum', 53919: 'capuchin', 4772: 'slick', 53927: 'during', 21160: 'wally', 53929: 'bonding', 53930: 'phase', 21164: 'bowl', 28105: 'painting', 14452: 'prove', 65299: 'through', 4795: 'kneeling', 69067: 'moe', 53956: 'safecracker', 36148: \"secret's\", 37576: 'cigars', 53965: 'caper', 53967: 'writing', 53969: \"kids'\", 53970: 'fantasy', 37587: 'microwave', 53976: 'sheepish', 17188: 'hiding', 4827: 'unattractive', 53984: 'brag', 52688: 'phony', 37602: 'beans', 21219: 'falcons', 3537: 'baloney', 53993: 'modestly', 53994: 'successful', 52690: 'plastered', 30845: 'pepsi', 21235: 'count', 37624: 'jerk-ass', 21241: 'denver', 21242: 'broncos', 37629: 'der', 37631: 'doy', 21249: 'wally:', 41771: 'sense', 54020: 'lucinda', 54021: 'placed', 54023: 'fifth', 54024: 'shard', 69079: 'wounds', 2890: '100', 37645: 'cheerier', 21263: 'clinton', 54033: 'read:', 54034: \"'your\", 54035: 'parents', 4884: 'whee', 11737: 'mitts', 4888: 'wheeeee', 30852: 'cannot', 54044: 'twin', 21277: 'raises', 54049: 'understood:', 54051: 'journey', 21284: 'hillary', 54054: 'beginning', 37675: 'seek', 4908: 'cutest', 37677: 'darkness', 37682: 'tactful', 54067: 'reader', 69086: 'do', 37689: 'fabulous', 4924: 'tv_father:', 14474: 'catch-phrase', 37696: 'remodel', 54082: 'steampunk', 54084: 'whatever', 4933: 'larson', 44513: 'carey', 37704: 'lush', 54091: 'wants', 21324: 'assassination', 4942: 'sponsoring', 21987: 'gunter', 54097: 'frink-y', 21330: 'conference', 54099: 'mock-up', 21337: 'based', 54106: 'title', 37724: \"changin'\", 4957: 'advertising', 3557: 'eminence', 33990: 'potatoes', 37732: 'susie-q', 61814: 'legs:', 37735: 'face-macer', 4968: 'smokes', 21355: 'scarf', 4975: 'carolina', 4981: 'prohibit', 54137: 'neil_gaiman:', 21370: 'lance', 54139: 'defensive', 54142: 'tuna', 54144: 'salad', 54145: 'itself', 63638: 'pour', 5005: 'jack_larson:', 54158: 'academy', 41928: \"betsy'll\", 5010: 'crowned', 5016: 'host', 54170: 'kansas', 5019: 'maitre', 5020: \"d'\", 5022: 'glee', 49989: 'low-blow', 57997: 'what-for', 54178: 'golden', 5031: 'heartily', 37802: 'guff', 5039: 'tv_daughter:', 23627: 'stickers', 37814: 'grub', 54200: 'hated', 5049: 'smoker', 54204: 'literary', 37821: 'dive', 37824: 'proper', 37825: 'old-time', 54210: 'lis', 17227: 'ech', 37833: 'whaaa', 5071: 'pageant', 37840: 'britannia', 54225: 'milhouses', 37843: 'darts', 5077: 'enter', 54231: 'jacksons', 37848: 'lager', 54233: 'xanders', 54236: 'aidens', 37856: 'classy', 5089: '250', 21474: 'sidekick', 54243: 'aww', 5093: 'blimp', 50907: 'played', 37863: 'asses', 54249: 'aiden', 68791: 'cable', 66386: 'onto', 54254: 'seymour_skinner:', 27448: 'blowfish', 54257: 'is:', 54259: 'advance', 62910: 'tubman', 21498: 'infiltrate', 5116: 'scientists', 54269: 'transylvania', 54270: 'prep', 37887: 'so-ng', 1807: 'emporium', 44544: 'therefore', 54279: 'professor_jonathan_frink:', 37897: 'lib', 21515: 'destroyed', 21518: 'shipment', 54287: 'brooklyn', 54288: 'bridge', 37908: 'arm-pittish', 21526: 'indeedy', 66393: 'yourself', 54298: 'bloodball', 54304: 'weak', 54307: 'lame', 21541: 'haplessly', 37927: \"renovatin'\", 21545: \"spaghetti-o's\", 54314: 'publishers', 21552: 'simp-sonnnn', 37938: 'drapes', 5173: \"bo's\", 5174: 'cavern', 54327: 'sistine', 54328: 'chapel', 37946: \"idea's\", 5179: '_powers:', 54335: 'vampires', 54340: \"pope's\", 54342: 'naked', 54344: 'mural', 37961: 'naegle', 14219: 'wh', 37963: 'pint', 47637: 'jolly', 54351: 'hems', 54353: 'haws', 37971: 'lindsay_naegle:', 21591: 'dum-dum', 37977: 'honor', 21595: 'unintelligent', 41829: 'volunteer', 54368: \"payin'\", 21601: 'shutup', 30907: 'gift', 37988: 'judge_snyder:', 21606: 'clown', 37991: 'deliberate', 37992: 'mis-statement', 21609: 'diminish', 37994: 'fact', 25448: 'feisty', 54392: 'watched', 54395: 'wire', 64360: 'chuckles', 38016: 'card', 21633: 'who-o-oa', 54406: 'conversations', 6036: 'peppers', 54409: 'krusty_the_clown:', 38026: 'bumpy-like', 54412: 'annie', 21654: 'encore', 19993: 'alec_baldwin:', 5272: 'starving', 5273: 'dogs', 54429: 'meaning', 54431: 'switch', 44571: 'fbi_agent:', 21668: 'encores', 54441: 'crime', 38058: 'counterfeit', 45458: 'daddy', 58227: 'rock', 58228: 'salt', 5307: 'dull', 54467: 'brain-switching', 54468: 'ceremony', 38085: 'moe-clone', 28193: 'rekindle', 38089: 'hiya', 22733: 'slaps', 41848: 'assume', 21715: 'reactions', 54487: 'sleeping', 38109: 'socialize', 54495: 'lenny:', 21729: 'clap', 38114: 'sarcastic', 21731: 'erasers', 54500: 'switched', 54501: 'brains', 21734: 'sideshow_mel:', 39121: 'admiring', 54504: 'monkey', 21740: 'pleasure', 21745: 'arts', 54515: 'weirder', 17278: 'pennies', 21750: 'gal', 54520: 'carll', 57463: 'crowd:', 54526: 'quite', 38151: 'favorite', 38155: 'alphabet', 38157: 'e-z', 21778: 'murmurs', 54552: 'dashes', 54556: 'lennyy', 54558: ':', 41861: 'dentist', 38178: 'moe-clone:', 25276: 'disgraceful', 5412: 'ivana', 11825: 'drawn', 5416: 'captain:', 54570: \"makin'\", 38188: 'clone', 5421: 'har', 5636: 'boozer', 34551: 'manjula', 33672: 'philip', 21816: 'suppose', 21820: 'maude', 21822: 'granted', 63712: 'liven', 38211: 'awkward', 54597: 'loves', 38214: 'oopsie', 55829: 'gordon', 5455: 'freed', 5456: 'iranian', 5457: 'hostages', 47331: 'draw', 5466: \"sat's\", 54619: 'talking', 56921: 'hammock', 21868: 'men:', 54637: 'zero', 54638: 'sheets', 21872: 'agreement', 54641: 'wind', 38258: \"enjoyin'\", 54646: 'sneaky', 47337: 'shoot', 66452: \"here's\", 5503: 'wishing', 54656: 'dignified', 54661: 'counting', 54663: 'moments', 54665: 'closing', 5515: 'diaper', 21901: 'amid', 54670: 'stumble', 38287: 'adult', 38288: 'film', 47342: 'whose', 54684: 'type', 52805: 'wrote', 54688: 'panicky', 21922: 'shriners', 21925: 'old_jewish_man:', 54697: 'hm', 38314: 'tickets', 54699: 'typing', 38316: \"santa's\", 38317: 'village', 35101: 'ziffcorp', 66462: 'tremendous', 38327: 'sleigh-horses', 38331: 'sells', 5568: 'ronstadt', 68381: 'feet', 21974: 'astrid', 38359: 'careful', 5593: 'linda_ronstadt:', 21978: 'dealer', 54747: 'pledge', 54749: 'allegiance', 66469: 'hurt', 38371: 'trapped', 21992: 'cecil', 21993: 'hampstead-on-cecil-cecil', 2765: 'picnic', 5617: 'kl5-4796', 54771: 'thanking', 22004: 'eurotrash', 38389: 'impress', 5623: '/mr', 54776: 'hosting', 61836: 'kidnaps', 47359: \"takin'\", 60745: 'gin', 52016: 'motor', 68383: 'still', 22019: 'gunter:', 54788: 'ned_flanders:', 30977: 'pasta', 54792: 'bedbugs', 38409: 'regret', 28247: \"tinklin'\", 22028: 'adrift', 22033: 'decadent', 54802: 'hall', 22036: 'meaningless', 54806: 'er', 44633: 'discriminate', 38427: \"liftin'\", 38429: 'dumbbell', 38433: 'forty-nine', 22050: 'sea', 22052: 'located', 38438: 'ninety-nine', 22055: 'cecil_terwilliger:', 5674: 'intelligent', 54827: 'civic', 5676: 'lachrymose', 22062: 'hotel', 5679: 'dyspeptic', 22064: 'practice', 5681: 'ebullient', 22066: 'affectations', 22070: 'bon', 22071: 'soir', 38456: \"lefty's\", 5690: 'effervescent', 22076: 'feld', 50101: 'eyeball', 54848: 'sangre', 54849: 'de', 54850: 'los', 5699: 'harvard', 54855: 'friend:', 54856: 'mexican', 54857: 'duffman', 38474: 'wha', 54860: 'mexican_duffman:', 22098: 'priceless', 22099: 'sketch', 54868: 'ho-la', 22102: 'certificate', 22104: 'authenticity', 38489: 'victim', 38492: 'bash', 22112: 'sketching', 23650: 'lots', 38508: 'hustle', 62931: 'manboobs', 52840: 'chase', 5746: 'silent', 54903: 'pepto-bismol', 22136: 'twelve-step', 55572: 'rent', 41919: \"school's\", 54917: 'subject', 38541: 'liver', 54929: 'spot', 28270: 'chips', 38552: 'nerd', 54941: 'scrubbing', 5797: 'admirer', 38567: 'sugar-free', 38569: 'ale', 38576: 'flat', 58312: 'sedaris', 38579: 'bubbles', 54964: 'hardy', 38582: 'buds', 54969: 'sadder', 38586: 'goldarnit', 970: 'figure', 54974: 'milhouse', 5824: 'snide', 43839: 'kick-ass', 54985: 'unhappy', 22218: 'novelty', 22219: 'item', 38610: 'life-partner', 38612: 'sissy', 55002: 'tired', 38621: 'whup', 38631: 'texas', 38632: 'penny', 38637: 'yee-ha', 38641: 'gol-dangit', 55028: 'cold', 55030: 'friendship', 38648: \"dimwit's\", 9172: 'male_inspector:', 55034: 'milhouse_van_houten:', 55035: 'taxi', 55040: 'gives', 5889: 'moesy', 21473: 'bumbling', 38661: 'team', 55053: 'wears', 38670: 'taps', 55057: 'nemo', 38676: 'head-gunk', 55063: 'pride', 5912: 'rub-a-dub', 22298: 'chosen', 63791: 'dazed', 38686: 'hears', 22303: 'squadron', 55072: 'bart', 22305: '8', 62937: 'walking', 55075: 'sadistic_barfly:', 22310: 'monday', 22313: 'municipal', 22314: 'fortress', 22316: 'vengeance', 38709: 'fool', 55097: 'the_rich_texan:', 9184: 'pumping', 55106: 'witty', 19293: 'spread', 55114: 'meeting', 22352: 'lights', 58339: 'terrific', 22361: 'theory', 55131: 'dramatic', 22364: 'donut-shaped', 5981: 'anthony_kiedis:', 55135: 'lear', 11920: 'glitterati', 5989: 'thirty-thousand', 55144: 'be-stainã¨d', 55145: 'swatch', 42208: 'tow-talitarian', 55154: 'gentles', 55157: 'begin', 55159: 'early', 55160: 'medieval', 3732: 'criminal', 38778: 're-al', 6012: 'audience', 6015: 'restless', 55169: 'self-satisfied', 55172: 'tapestry', 1837: 'composite', 55177: 'sponge:', 6026: 'chilly', 6027: 'willy', 38799: 'moe-heads', 55184: 'gutenberg', 55185: 'bible', 22418: 'computer_voice_2:', 6035: 'chili', 55188: 'bartholomã©:', 22423: 'hawking:', 38814: 'polls', 6048: 'klown', 6052: 'flea:', 38822: 'ads', 58353: 'consider', 38824: 'hurting', 22442: 'larry', 22443: 'flynt', 22449: 'stink', 55218: 'complaining', 55221: 'lise:', 6070: 'problemo', 38840: 'homeless', 55226: 'overstressed', 55231: 'vacation', 55233: 'perhaps', 55241: 'marguerite:', 22476: \"hell's\", 55245: 'south', 55247: 'france', 58360: 'deacon', 55258: 'helps', 23117: 'ivy-covered', 55264: 'recap:', 55268: 'unjustly', 55269: 'torn', 55272: 'lofty', 55273: 'perch', 68945: 'not', 55282: 'barter', 55284: 'persia', 62944: 'milk', 22521: 'jazz', 38907: 'annual', 38908: 'holiday', 1841: 'logos', 22526: 'regretted', 14677: 'moe-near-now', 6145: \"wallet's\", 55303: 'rag', 27428: 'incriminating', 22543: 'hunting', 6169: 'stares', 6172: 'miss_lois_pennycandy:', 55326: 'abandon', 6175: 'ruby-studded', 55329: 'raggie', 55334: 'emotional', 38952: 'w-a-3-q-i-zed', 22569: 'helpless', 48596: 'valuable', 6189: 'johnny_carson:', 55353: 'special', 55360: 'yesterday', 22596: 'hushed', 55371: 'continued', 19245: 'appeals', 55376: 'enterprising', 55377: 'seamstress', 55378: 'turned', 55382: 'flag', 28345: 'matter-of-fact', 55385: 'fledgling', 39006: 'mason', 22626: \"bladder's\", 55399: 'history', 22634: 'urine', 6256: 'undies', 55409: 'thousand-year', 39026: 'arrived', 55412: 'grace', 55414: 'complete', 39031: \"rentin'\", 39034: 'bus', 39039: 'regulars', 39041: 'las', 55429: 'predictable', 39046: 'nevada', 55434: 'bar_rag:', 22667: 'heavyset', 55436: 'startled', 55661: 'done:', 6288: '50%', 55443: 'wake', 6292: 'sales', 39062: 'generous', 9241: 'rascals', 61124: 'abercrombie', 39067: 'stingy', 39069: 'rat-like', 6304: 'sweetest', 3782: \"drexel's\", 44743: 'bike', 55469: 'luck', 22703: 'tommy', 25630: 'tear', 39094: 'sued', 39097: 'company', 22714: 'insulted', 39102: 'settlement', 6338: 'entertainer', 62951: 'mahatma', 22729: 'demand', 22730: 'satisfaction', 55501: 'sensitivity', 55504: 'jobless', 55505: 'washouts', 42019: 'ecru', 39127: 'cow', 22750: 'duel', 55519: 'miserable', 39143: 'partially', 39144: 'risquã©', 55531: 'due', 55534: 'error', 55539: 'blamed', 39159: 'plane', 39161: 'soul-crushing', 55551: 'playing', 68565: 'wanna', 55558: \"world's\", 55559: 'smallest', 39176: 'pleading', 39298: 'noggin', 22800: 'slapped', 39185: 'vegas', 22803: \"duelin'\", 6420: 'ragtime', 20185: 'operation', 39194: 'blackjack', 22816: 'awe', 4033: 'football_announcer:', 39204: 'cheat', 55589: 'sell', 16846: 'cadillac', 43860: 'shush', 55609: 'pizzicato', 22842: 'shack', 6460: 'crowds', 6462: 'wild', 55615: 'clearly', 55616: 'specified', 55617: 'violin', 6466: 'yoo', 55692: 'complaint', 39243: 'nelson_muntz:', 36578: 'goodbye', 22863: \"b-52's:\", 55633: 'anguished', 39250: 'nelson', 53508: 'neat', 6484: 'farewell', 55639: 'stepped', 46589: 'insecure', 6493: 'shop', 22879: 'sat-is-fac-tion', 22881: 'glove', 63889: \"coaster's\", 9276: 'smelly', 39277: 'greatest', 6510: 'isle', 2771: 'pip', 6514: 'coney', 22900: 'feat', 22585: 'frescas', 55670: 'arguing', 22906: 'forgotten', 9279: 'shtick', 6524: 'theatrical', 39296: 'paints', 55681: 'watered-down', 55682: 'swill', 22919: 'depressed', 39308: 'meanwhile', 55693: 'department', 6553: 'distaste', 39325: \"yieldin'\", 55711: 'guts', 39329: 'moe_recording:', 55715: 'missed', 22950: 'shred', 6572: 'replace', 22957: 'shreda', 55729: 'pathetic', 55730: 'rationalizing', 55733: 'door', 22966: \"countin'\", 6559: 'officer', 39360: 'billboard', 50251: 'man_with_crazy_beard:', 39364: 'woman:', 63905: \"drinkin'\", 39368: 'ew', 58444: 'taking', 6604: 'fit', 40046: 'guns', 6607: 'marquee', 6609: 'luv', 64311: 'mostrar', 55765: 'discuss', 55770: 'pack', 50255: 'christopher', 6620: 'beaumarchais', 23007: 'reaching', 39394: \"table's\", 55779: \"today's\", 6628: 'dishonor', 23013: 'fevered', 39398: 'jam', 6631: 'ancestors', 55790: 'struggling', 23024: 'spreads', 23026: 'wildfever', 23028: 'th', 6645: 'applicant', 39415: 'henry', 39416: 'ford', 39418: 'captain', 39419: 'kirk', 23040: 'writer:', 39426: 'dance', 6661: 'killarney', 39430: 'idiot', 55817: 'adjust', 55821: 'runaway', 55822: 'monorails', 55826: 'nascar', 55827: 'star', 55828: 'jeff', 23061: 'thesaurus', 55834: 'jeff_gordon:', 6683: 'tenor:', 20954: \"football's\", 6689: 'sang', 23076: 'preparation', 6696: 'tones', 17500: 'players', 6698: 'soft', 23086: 'additional-seating-capacity', 42077: 'lobster-politans', 39479: \"i'm-so-stupid\", 39483: 'etc', 55872: \"plank's\", 23111: '&', 66658: 'both', 39502: 'five-fifteen', 6735: 'swe-ee-ee-ee-eet', 55889: 'traitors', 39510: 'eternity', 66660: 'furiously', 39514: 'fortune', 55901: 'lou', 39518: 'fica', 6751: 'my-y-y-y-y-y', 39520: 'helping', 55905: 'yo', 20241: 'organ', 6760: 'adeleine', 55913: 'eyesore', 23146: 'founded', 55918: 'bulldozing', 55920: 'tire', 44416: 'parenting', 55925: 'sinkhole', 39545: 'steamed', 23164: 'kegs', 39551: 'cappuccino', 39552: 'machine', 55937: 'mayor_joe_quimby:', 23175: 'tuborg', 55945: 'solved', 23181: 'kings', 55950: 'hole', 23185: 'mmmm', 23187: 'danish', 44243: 'showered', 55958: 'fears', 55959: 'most:', 32888: 'designated', 2409: 'fritz:', 6817: 'hanh', 39586: '-ry', 50289: 'expense', 23209: 'accounta', 23211: 'sunday', 6834: 'sounded', 39612: 'order', 17525: 'tenuous', 56004: \"s'okay\", 39622: 'rid', 6857: 'nigel_bakerbutcher:', 39627: 'otherwise', 44419: 'childless', 23245: 'sky', 56022: 'nuked', 50297: 'beards', 56024: 'swimmers', 39375: 'considering:', 56029: 'sympathetic', 9339: 'exhaust', 58492: 'delete', 56047: 'wrap', 56049: 'plums', 56051: 'tin', 56052: 'foil', 23290: 'steal', 39675: 'fresh', 23294: 'sail', 56063: 'nothing', 23298: 'waters', 54241: 'dreamy', 23306: 'theme', 39694: 'neighbors', 6928: 'sharps', 23314: 'ocean', 39699: 'interested', 56084: 'samples', 28462: 'toward', 56086: 'sold', 23319: 'twelve', 23320: 'miles', 56091: 'shelbyville', 56092: 'sperm', 47578: 'tastes', 6619: 'du', 23334: 'tyson/secretariat', 56110: 'admitting', 33929: 'hangover', 56127: 'necklace', 23361: 'wildest', 56131: 'awww', 6982: 'kako:', 39751: 'directions', 56138: 'eww', 6987: 'plum', 6988: 'floating', 23010: 'pitch', 6990: 'perfume', 3506: 'norway', 6995: \"man's\", 6996: 'hat', 62973: 'onassis', 39772: 'jerry', 39773: 'lewis', 56161: 'twins', 23014: 'rivalry', 39790: 'notorious', 39797: 'idealistic', 39799: 'law-abiding', 23416: 'calendars', 39801: 'archaeologist', 56187: 'bubble', 39810: 'excavating', 39812: 'mayan', 39813: 'pyramid', 50972: 'using', 39817: 'unearth', 39820: 'coins', 23437: 'liquor', 7057: 'bears', 23443: 'examines', 39831: 'pre-columbian', 7064: 'andalay', 61252: 'girl', 23450: 'license', 23451: 'expired', 23453: '1973', 39840: 'donate', 56225: 'wall', 39845: 'museum', 56230: 'photo', 23464: 'rhode', 23469: 'signed', 35152: 'deny', 23481: \"meanin'\", 39866: 'statues', 23485: 'updated', 56257: 'beach', 7107: 'phasing', 56261: 'rolled', 42145: 'beats', 11148: 'punishment', 23500: 'poster', 23505: 'moe-lennium', 39892: 'handed', 39896: 'dilemma', 23523: 'viva', 56292: 'lend', 66251: 'bucks', 56301: 'sesame', 39919: 'edner', 56308: 'wearing', 7160: 'schabadoo', 39930: 'sat', 39932: \"playin'\", 58538: 'asking', 39424: 'bar-boy', 66731: 'therapy', 56333: 'frogs', 23566: 'relative', 39953: 'coin', 56338: 'kermit', 65707: 'teenage_homer:', 56344: 'frog', 56345: 'actors', 7197: 'attracted', 23582: 'lazy', 56353: 'settles', 39970: 'sinister', 36247: 'easily', 56357: 'banks', 39978: 'poorer', 7212: 'reciting', 7216: 'infatuation', 39987: 'gold', 7221: 'physical', 7222: 'attraction', 39996: 'worldly', 39997: 'possessions', 56382: 'woe:', 39999: \"'ceptin'\", 40001: 'nucular', 7236: 'common', 56392: 'gamble', 56395: \"daughter's\", 56396: 'future', 58071: \"'now\", 40019: 'smiling', 40025: '_montgomery_burns:', 56412: 'website', 64970: 'rom', 7265: 'napkins', 56418: 'safe', 42171: 'unhook', 23653: 'uglier', 56422: 'fdic', 56425: 'its', 56426: 'grubby', 7277: 'vigilante', 7278: 'handshake', 56435: 'poker', 56436: 'site', 56439: 'safer', 23672: 'pigtown', 56442: 'american', 56443: 'bank', 56447: 'nation', 7296: 'eightball', 56449: 'built', 56452: 'suing', 7303: 'twelveball', 56456: 'rings', 40074: 'yee-haw', 7313: 'cueball', 23698: 'cauliflower', 23699: 'ear', 17156: 'hyahh', 23704: 'lizard', 56477: 'badmouth', 50373: 'natural', 56481: 'compared', 40099: 'powered', 40101: 'non-american', 50436: \"'bout\", 23720: 'caveman', 57660: 'rule', 40115: \"beer's\", 40116: 'german', 40120: \"tv's\", 56505: 'prettiest', 56510: 'rather', 56513: 'ugliest', 12793: 'mate', 28534: 'ayyy', 56518: 'absolutely', 20343: 'harvesting', 56527: 'discussing', 56528: \"aristotle's\", 56529: 'poetics', 40151: 'pained', 40158: 'misfire', 56546: 'bowling', 23779: 'emphasis', 44437: 'considering', 56553: 'dan', 40172: 'prolonged', 40174: 'celebrity', 23791: 'maher', 40179: 'playoff', 40180: 'season', 40190: \"hobo's\", 56575: 'explaining', 7427: 'aboard', 56581: 'rice', 56582: 'wine', 56583: 'promotion', 23819: 'crapmore', 40205: 'owes', 23822: 'carve', 23826: 'kisser', 56595: 'waltz', 23087: 'fever', 7454: 'nooo', 40224: 'ow', 40229: 'fist', 40232: 'palm', 56618: 'cutting', 44935: 'inclination', 56626: 'poured', 29373: 'clothespins:', 40245: 'whiny', 36745: 'oughta', 7481: 'file', 62989: 'wide', 7486: 'fiiiiile', 40257: 'jockey', 48932: 'dumbest', 40260: 'owe', 64054: 'ehhhhhhhhh', 40262: 'tony', 56647: 'hooky', 23880: 'surgery', 40266: 'cough', 7502: 'stillwater:', 68991: 'never', 7509: 'necessary', 40278: 'i-i-i', 23896: 'spotting', 7515: 'astronauts', 7520: '_babcock:', 40289: 'bums', 52079: 'obvious', 56679: 'throats', 56681: 'grind', 44987: 'slight', 56686: 'crunch', 7536: 'introduce', 56689: 'sit', 64062: 'carl_carlson:', 40313: 'mob', 40315: \"puttin'\", 40317: 'screws', 23935: 'windowshade', 7561: 'evils', 56716: 'nature', 23951: 'grope', 56722: 'cameras', 56725: 'dan_gillick:', 56726: 'uh-huh', 13518: \"industry's\", 23960: 'softer', 42224: 'stalin', 56739: 'bread', 56740: 'dipping', 66281: 'neighborhood', 56751: 'attitude', 40369: \"tony's\", 56756: 'giving', 56759: 'edge', 40376: 'scared', 40380: 'all-all-all', 64074: 'far', 56766: 'groveling', 40384: 'twenty-five', 25846: 'tall', 61345: 'hide', 7624: 'wobble', 44962: 'partners', 55885: 'land', 56788: 'expression', 31310: \"pickin'\", 23731: 'snout', 24024: 'complicated', 7641: 'caholic', 40412: 'stars', 40415: 'firing', 40417: 'beam', 56802: 'charlie', 56803: 'brown', 40420: 'energy', 7653: 'freely', 40423: 'reporter:', 40425: 'burning', 56811: 'abusive', 56812: 'relationship', 54266: 'vampire', 56818: 'beating', 40436: 'attack', 7674: 'crotch', 7677: 'amanda', 7678: 'huggenkiss', 7686: 'ivanna', 24072: \"neat's-foot\", 64087: 'kay', 40460: 'irish', 34081: 'ã', 53165: 'multi-purpose', 42243: 'insensitive', 40468: 'polish', 56854: 'tolerance', 56857: 'high', 44975: 'privacy', 56860: 'dejected_barfly:', 40478: 'whatcha', 1285: 'bowie', 24096: 'hooters', 9478: 'forgiven', 56870: 'seen', 40491: 'heck', 40495: \"challengin'\", 40629: 'colonel:', 13363: 'syndicate', 7732: 'fondest', 7733: 'desire', 40502: 'sudoku', 56887: 'needs', 40504: 'games', 56889: 'professional', 47711: 'musical', 40512: 'puzzle', 40516: 'numeral', 40519: 'repeated', 7753: 'invisible', 40522: 'row', 24139: 'crushed', 40524: 'column', 7760: 'donut', 56913: 'fragile', 7764: 'sacrilicious', 7769: 'indecipherable', 40542: \"drawin'\", 40543: 'wangs', 52633: 'hollowed-out', 20411: 'y', 50898: 'portentous', 55911: 'eliminate', 56941: 'bleak', 64104: 'great', 42259: 'winch', 24180: 'refund', 56949: 'chill', 16081: 'sausage', 56955: 'dropping', 40572: 'salvation', 40580: 'cocks', 56965: 'duffman:', 24199: 'raising', 56969: 'girls', 56971: 'janette', 56973: 'cheryl', 7824: 'ideal', 40593: 'stripes', 56978: 'ride', 24211: 'tax', 24212: 'hike', 24219: 'mabel', 7840: 'thoughtless', 40610: 'repay', 20422: 'quimby', 7847: 'remain', 7848: 'nameless', 21305: 'involved', 24238: 'voted', 24240: 'chastity', 24241: 'bono', 57013: 'pretend', 66275: 'toms', 31391: 'shoo', 40635: \"game's\", 57020: 'ã€', 57021: 'la', 57022: 'improv', 7871: 'clips', 57028: 'hop', 6599: 'nahasapeemapetilon', 57031: 'imaginary', 7883: 'awfully', 40652: 'forward', 40656: 'fishing', 7893: 'pause', 57046: 'motorcycle', 53199: 'sotto', 24285: 'influence', 57059: 'chip', 57062: 'gas', 35725: 'poking', 18267: 'roll', 7918: 'flustered', 57075: 'pretending', 57076: 'ends', 40695: \"listenin'\", 24314: 'glummy', 7932: \"ball's\", 23168: 'imported-sounding', 40708: 'bursts', 7944: 'slender', 57099: 'smell', 40716: 'author', 31362: 'cell-ee', 24334: 'remembered', 7953: 'tapered', 40728: 'earlier', 40732: 'newly-published', 40733: 'poet', 7967: 'delicate', 40737: 'barf', 57122: 'skydiving', 57128: 'lemme', 57129: 'text', 55943: 'administration', 36829: 'dads', 57141: \"pullin'\", 13905: 'julep', 40759: 'snail', 40760: 'trail', 66868: 'cowardly', 24380: 'shindig', 57153: 'ripcord', 57154: 'app', 24388: 'videotaped', 8006: 'brunswick', 40776: 'prank', 14988: 'pantsless', 40780: 'gag', 40781: 'name:', 64141: 'foot', 69008: 'that', 40790: 'wolfe', 64144: 'solid', 40802: 'bonfire', 57187: 'random', 57188: 'occurrence', 40805: 'vanities', 24422: 'package', 40809: 'coined', 28637: 'teen', 40811: 'phrase', 8044: 'bowled', 40813: 'radical', 40814: 'chic', 64757: 'mumble', 57200: 'squeezed', 57202: 'sap', 57208: \"choosin'\", 24442: 'project', 40829: \"squeezin'\", 40831: \"'roids\", 57217: 'finest', 24456: 'rolling', 40841: 'vermont', 57227: 'adequate', 40846: 'thrilled', 40849: 'wordloaf', 40850: 'festival', 57236: 'happily', 24469: 'occasion', 24473: 'poem', 40859: 'writers', 43369: 'fake', 24481: 'older', 24485: 'flew', 57259: 'ice', 57260: 'cream', 57261: 'carnival', 57270: 'dollar', 1353: 'nickel', 20468: 'dã¼ffenbraus', 40890: \"wouldn't-a\", 1907: 'recipe', 57283: 'miracle', 20458: 'cronies', 57294: \"tree's\", 42317: 'tow-joes', 57296: 'fraud', 24529: 'planet', 8153: 'jacques:', 57311: 'tree', 57317: 'brockman', 24552: 'gumbel', 57322: 'against', 64167: 'wood', 57325: 'anyway', 40942: 'greystash', 8175: 'shifty', 8176: 'eyed', 31400: 'sneak', 57330: 'bet', 57332: 'disillusioned', 24565: 'stage', 57336: 'child', 24573: 'talkative', 57342: 'junior', 57343: 'reporter', 57344: 'kenny', 57345: 'brockelstein', 24578: 'insightful', 50988: 'stengel', 57358: '7-year-old_brockman:', 57360: 'young', 40977: 'outlive', 24594: 'market', 40980: 'wizard', 57377: 'cartoons', 34139: 'century', 57380: 'thirty-three', 24614: 'yourse', 57383: 'short_man:', 41000: 'miss', 57385: 'gruff', 41002: 'upn', 39602: 'summer', 41007: 'grumpy', 57399: 'break', 8248: 'enthused', 24635: 'soaking', 24637: 'shag', 8259: 'patting', 57412: 'mouse', 8261: 'flames', 8264: \"burnin'\", 57418: 'teeth', 57420: 'yellow', 57423: 'breath', 57425: 'rancid', 8274: 'advantage', 57428: 'innocence', 8278: 'soaked', 41055: 'assert', 41056: 'herself', 57441: 'plywood', 57448: 'man_with_tree_hat:', 57453: 'hoax', 57456: 'tree_hoper:', 41073: 'backbone', 41077: 'notices', 24695: 'passed', 57466: 'dead', 31423: 'snatch', 57468: 'burn', 57470: 'hats', 24704: 'presents', 64108: 'jerking', 57478: 'alcohol', 48287: 'purse', 24723: 'without:', 24724: 'morning-after', 57508: 'crappy', 24743: 'imagine', 24745: 'boozebag', 8362: \"messin'\", 57517: 'rats', 24751: 'whirlybird', 57520: 'pretentious_rat_lover:', 57522: 'manchego', 57524: 'aziz', 23241: 'sun', 69020: 'away', 8380: 'banned', 64202: 'alone', 57538: 'so-called', 41157: 'fausto', 57542: 'lurks', 57549: 'racially-diverse', 57551: 'gang', 24785: 'b-day', 57554: 'network', 57555: 'cop', 24795: 'tanked-up', 57565: 'experienced', 53286: 'attempting', 28711: 'prettied', 41197: 'unlocked', 8430: 'sugar-me-do', 24817: 'tanking', 8435: 'caricature', 8438: 'mt', 8440: 'lushmore', 41209: 'beeps', 57596: 'acronyms', 8453: 'juke', 34177: 'cooler', 24840: 'helicopter', 41231: 'declan', 5192: 'mobile', 66948: 'begins', 12830: 'sympathizer', 41244: 'fruit', 8479: 'oww', 28720: 'zeal', 41250: 'oddest', 41251: 'thing:', 41255: 'affection', 57641: 'lloyd', 41258: 'knuckle-dragging', 41259: 'sub-monkeys', 57644: 'w', 53298: 'accurate', 57648: 'o', 8497: 'jokes', 57650: 'l', 41271: 'incredulous', 57658: 'without', 41275: \"sippin'\", 41276: 'cuckoo', 41277: 'juice', 57662: 'law', 57665: 'anarchy', 57670: 'civilization', 57673: 'soon', 57677: 'near', 24913: \"handwriting's\", 41298: 'porn', 56035: 'shame', 57684: 'collapse', 41302: 'cheap', 41304: 'de-scramble', 57690: 'ancient', 57691: 'rome', 41309: 'scrutinizing', 41315: 'shoe', 41316: 'inserts', 57704: 'modern', 36924: 'hygienically', 57708: 'inexorable', 57709: 'march', 41326: \"writin'\", 41327: 'creepy', 17811: 'firmly', 57720: 'ominous', 8569: 'exact', 8575: 'equal', 8576: 'astonishment', 57729: '_eugene_blatz:', 57731: 'slaves', 8582: 'puffy', 57738: 'supermarket', 56479: 'country', 24974: 'santeria', 57744: 'cut', 41361: 'pope', 41363: 'kills', 33020: 'young_moe:', 41368: 'declan_desmond:', 57759: 'survive', 15088: 'bottomless', 24996: 'breaks', 57766: 'narrator:', 57771: 'prepared', 45128: 'haircuts', 57780: 'unsourced', 57782: 'undated', 57783: 'video', 57785: 'convinced', 41402: 'title:', 57787: 'beyond', 41404: 'pontiff', 57789: 'doubt', 25023: 'straighten', 57794: 'closes', 25032: 'finish', 57807: 'hits', 8656: 'however', 8661: 'confidentially', 8667: 'collateral', 57820: 'almost', 57821: 'swear', 57824: 'lloyd:', 41441: 'gargoyles', 56059: 'philosophic', 65211: \"who's\", 41447: 'good-looking', 47753: 'unrelated', 17831: 'model', 57841: 'suspended', 41463: 'open-casket', 41464: 'material', 25085: 'suspiciously', 31373: \"rustlin'\", 57856: 'case', 57860: 'hit', 57863: 'voodoo', 57864: 'curse', 57867: 'gestated', 8716: 'shark', 50605: 'murdoch', 57874: 'popped', 25110: 'world-class', 57879: 'fire', 8731: 'sledge-hammer', 57884: 'skeptical', 25121: 'alcoholism', 28763: 'design', 25124: 'raging', 57895: 'tail', 41515: 'sour', 8748: 'othello', 8752: 'drinker', 41521: 'bunch', 30843: 'versus', 25141: 'barney-type', 25142: 'belch', 57911: 'acquitted', 61535: 'cap', 57916: 'nightmare', 8767: 'presently', 8769: 'beast', 41538: 'paparazzo', 57930: 'in-ground', 8783: 'savagely', 57937: 'moans', 8786: 'tender', 53347: 'neighboreeno', 41560: 'joy', 61540: 'proposing', 57952: 'starts', 25185: 'bad-mouth', 41575: 'robin', 41576: 'williams', 49394: 'refill', 57969: 'mention', 57978: 'shades', 57980: 'grey', 39701: 'wife-swapping', 57984: 'turns', 41601: 'bits', 41613: 'burt', 41614: 'reynolds', 58000: 'bedroom', 8850: 'scout', 41623: 'co-sign', 30301: 'lookalikes', 58017: \"y'know\", 25250: 'catty', 58023: 'women', 25259: 'consulting', 51033: 'occupied', 41647: 'threw', 8882: 'arrested:', 58037: 'inspire', 25273: 'amends', 8890: 'locklear', 58043: 'fan', 58044: 'fiction', 25277: 'behavior', 58049: 'sheriff', 41671: 'photos', 58057: 'kissed', 41675: 'turlet', 58062: 'said:', 58064: 'imitating', 58065: 'andy', 58066: 'griffith', 64291: 'languages', 17870: \"car's\", 25303: 'barstools', 58073: 'aunt', 58075: 'asks', 25308: 'closet', 41697: 'attractive_woman_#1:', 58082: \"fishin'\", 58083: \"hole'\", 41705: \"ladies'\", 25324: 'befouled', 41709: 'attractive_woman_#2:', 41713: 'trade', 41714: 'bras', 41716: 'panties', 25334: 'drop-off', 42452: 'remembers', 41722: \"what'sa\", 58112: 'wooden', 25346: 'bulletin', 58116: 'plastic', 8965: 'hugh', 61569: 'invulnerable', 25352: 'broken', 67031: 'mine', 25358: 'trapping', 58127: 'argue', 25360: 'youngsters', 58129: 'coffee', 58130: 'stirrers', 8980: 'cuff', 8981: 'links', 67034: 'stay', 58143: 'local', 25381: 'trucks', 25383: 'unavailable', 25387: 'blaze', 31538: 'flayvin', 58158: 'holy', 58159: 'joe', 58160: 'walk', 9009: 'traditions', 1502: 'crowded', 9015: \"it'd\", 64308: 'quero', 41788: 'appealing', 58173: 'faiths', 58184: 'represent', 58186: 'easy-going', 58187: 'offshoot', 58189: 'protestantism', 41806: 'joking', 36856: 'knocked', 9041: 'hugh:', 9043: 'finishing', 9046: 'enthusiasm', 20623: 'sniper', 25436: 'burt_reynolds:', 58208: 'snake', 58209: 'handler', 25443: 'fireball', 25445: 'mudflap', 58216: 'easy', 25449: 'supreme', 25450: 'court', 25451: 'justice', 58223: \"thing's\", 25456: 'birth', 58225: 'loaded', 25459: 'competing', 9076: 'virtual', 25462: 'cross-country', 9080: 'other_player:', 25465: 'race', 64319: 'montrer', 58236: 'raccoons', 9090: \"fightin'\", 4246: 'scornfully', 58247: 'rims', 58250: 'margarita', 58251: 'glasses', 58255: 'padre', 41875: 'cotton', 25492: 'flown', 24308: 'glum', 58269: 'ribbon', 25507: 'heroism', 47942: 'nibble', 58278: 'cherry', 25513: 'charges', 9132: 'dizzy', 42482: 'quadruple-sec', 9134: 'nauseous', 25519: 'binoculars', 58293: 'quotes', 25535: 'grieving', 58304: 'blurbs', 41922: 'bake', 41923: 'sale', 36312: 'warmth', 58311: 'david', 9160: 'female_inspector:', 58315: \"he'll\", 58316: 'flack', 9166: 'toxins', 58321: 'seriously', 41938: 'runs', 58324: 'pews', 58336: 'passion', 17915: 'waterfront', 49598: 'storms', 25578: 'midnight', 25581: 'slab', 9200: 'steely-eyed', 37032: 'whaddya', 39763: 'donation', 41976: 'paint', 58363: 'suspicious', 49953: 'confused', 9216: 'ahhhh', 61611: 'names', 58372: 'catholic', 9221: 'inflated', 41990: 'depending', 9224: 'self-esteem', 41993: 'color', 47960: 'frenchman', 34307: 'pizza', 58389: 'sexton', 42007: 'strips', 58393: 'rector', 42013: 'malabar', 42014: 'ivory', 67077: 'jackass', 42018: 'mediterranean', 47963: 'spoon', 25637: 'reluctantly', 58408: 'rev', 58410: '_hooper:', 42029: 'white', 58419: 'sleeps', 58421: 'church', 25658: 'clenched', 42044: 'tow', 42045: 'dough', 61621: 'nick', 58432: 'religion', 25670: 'resigned', 7947: 'feminine', 9289: 'faceful', 9291: 'soot', 25676: 'cocktail', 25677: 'onions', 58446: 'jobs', 58449: 'whim', 58457: 'snow', 58458: 'plow', 10116: 'awwww', 58464: 'astronaut', 25701: 'according', 42089: 'cars', 58476: 'stayed', 37053: 'rife', 58481: 'eighty-seven', 9334: 'william', 9335: 'faulkner', 58490: \"nothin's\", 25723: 'uses', 25724: 'appearance-altering', 25725: 'cosmetics', 1557: 'patron_#2:', 42114: 'smelling', 25733: 'warned', 42121: 'one-hour', 42123: 'zone', 58511: \"somethin'\", 61635: 'wolveriskey', 58517: 'mid-conversation', 42136: 'correction', 42140: 'eighty-one', 58526: 'padres', 58529: 'tigers', 42146: \"hangin'\", 42523: 'venom', 9382: 'aggie', 58535: 'baseball', 42153: 'lobster-based', 42154: 'designer', 58541: 'priest', 68694: 'public', 58546: 'cat', 47308: 'solves', 9758: 'cooker', 42167: 'laughter', 58555: 'polygon', 58559: 'hexa-', 58561: 'octa-', 20683: 'winded', 9416: 'director:', 58569: 'decide:', 58571: 'wrestling', 9420: 'stagehand:', 34338: 'proudly', 58577: 'muttering', 42194: 'moving', 25814: 'sly', 42200: 'towed', 9435: 'luckily', 9437: 'alfalfa', 42533: 'sweetie', 9440: 'orphan', 9441: 'owned', 9444: 'studio', 42214: 'joke', 42218: 'totalitarians', 9451: 'assent', 58605: 'cries', 58608: 'loudly', 58610: 'helllp', 42230: 'forced', 42231: 'labor', 42232: 'camp', 63055: 'hurts', 9467: 'wealthy', 11772: 'barbed', 58626: 'save', 9475: 'merchants', 61654: \"boy's\", 58630: 'normal', 9482: 'prices', 58642: \"beggin'\", 9491: 'flailing', 9493: 'agh', 61657: 'knock-up', 56196: 'college', 42267: 'laws', 42271: 'enforced', 25894: 'tells', 42279: 'hired', 42280: 'fatty', 42290: 'ralph', 42295: 'ralphie', 42298: 'mayor', 25917: 'x', 35779: 'freedom', 58688: 'legend', 58696: 'reached', 58698: 'buzz', 58699: 'cola', 58701: 'hotline', 25934: 'warily', 58706: 'recorded', 9556: 'little_hibbert_girl:', 58709: 'options', 42328: 'territorial', 9563: 'tinkle', 58716: 'carefully', 42333: 'plan', 58720: 'state', 9569: 'mmm-hmm', 58725: 'committing', 25959: 'prefer', 25962: 'clandestine', 9579: 'cheesecake', 9580: 'depository', 25966: 'disturbing', 42351: 'gum', 67134: 'jerky', 61673: \"one's\", 42367: \"family's\", 25985: 'pulitzer', 9602: 'pit', 42372: 'hates', 58758: \"nothin'\", 61677: 'deal', 58770: 'sucked', 50755: 'push', 26012: 'helen', 18870: 'agent_miller:', 58803: 'vacuum', 58804: 'cleaner', 9654: 'restaurants', 58807: 'press', 53492: 'drawer', 26048: 'guinea', 58824: 'warm_female_voice:', 26059: 'testing', 58830: 'available', 58831: 'life-extension', 26065: 'medical', 58835: 'male_singers:', 58836: 'suicide', 58838: 'painless', 58841: 'brings', 17999: 'alibi', 58844: 'changes', 42461: 'explain', 42463: 'process', 26080: \"chewin'\", 58853: 'tears', 42471: 'splash', 42473: 'jaegermeister', 58858: 'delays', 26091: 'chew', 42476: 'add', 42477: 'sloe', 26094: 'telephone', 58863: 'vulnerable', 42480: 'triple-sec', 9713: 'all-american', 9714: 'cooking', 58963: 'chest', 42484: 'gunk', 42487: \"dog's\", 9720: 'chairman', 42490: 'absolut', 9723: 'wok', 58876: 'ron', 42497: 'mmm', 42499: 'pickle', 58884: 'moe-ron', 58887: 'realizing', 22760: 'extreme', 26122: 'experiments', 42507: 'stripe', 42509: 'aquafresh', 58896: 'puke', 42584: 'bleacher', 9746: 'relaxing', 42517: 'funniest', 26134: 'effects', 58905: 'rope', 9755: 'madman', 58908: 'neck', 42526: 'louisiana', 42527: 'loboto-moth', 58913: 'choking', 26149: 'winces', 26151: 'covers', 58927: 'dying', 42544: 'test', 58929: 'moron', 26163: 'hmmmm', 9781: 'feedbag', 33605: 'researching', 9784: 'barney-shaped_form:', 58939: 'libraries', 58940: 'use', 58941: 'newspaper', 58942: 'rods', 42592: 'wipes', 9796: \"fryer's\", 58950: 'p', 67169: 'level', 58952: 'r', 26185: 'effigy', 26188: 'dawning', 9807: 'navy', 9811: 'flash-fry', 58964: 'compressions', 9813: 'buffalo', 42582: 'ultimate', 58967: 'bee', 58968: 'gees', 58969: 'song', 42588: 'menace', 26205: 'appalled', 58974: 'singing/pushing', 42591: 'swig', 9824: 'whining', 58985: 'deep', 9834: \"g'on\", 42604: 'entering', 42612: 'forget-me-drinks', 26229: 'brainiac', 59000: \"stayin'\", 59001: 'alive', 59009: 'nose', 9861: 'extinguishers', 42630: 'rickles', 42632: 'arabs', 59022: 'living', 42640: 'gibson', 42642: 'mexicans', 59027: 'fools', 59036: 'breaking', 9892: 'cheering', 42661: 'grammys', 42664: 'hispanic_crowd:', 26289: 'detecting', 26291: 'distinct', 26292: 'strain', 26294: 'anti-intellectualism', 26306: 'einstein', 68526: '||dash||', 42696: 'memory', 26317: 'appendectomy', 59086: 'saved', 26319: 'lipo', 46975: 'monster', 35247: 'cigarettes', 42617: 'mistake', 26329: 'sampler', 331: 'profiling', 42716: 'sternly', 42722: 'disturbance', 26339: 'dramatically', 59114: 'jerk', 26347: 'crayon', 42732: 'remembering', 42740: 'seeing', 9973: \"aren'tcha\", 26358: 'art', 26359: 'carney', 26361: 'flourish', 9981: '50-60', 26366: 'oblongata', 59136: 'lease', 67200: 'leave', 52161: 'walther', 48086: 'ingredient', 18049: 'genius', 59145: 'opportunity', 26384: 'deeper', 23512: 'sticker', 10002: 'mistakes', 26387: 'pusillanimous', 26388: 'pilsner-pusher', 42777: 'filed', 59162: 'same', 59164: \"stinkin'\", 42629: 'don', 26401: 'inanely', 42787: 'release', 59172: 'post-suicide', 42789: 'infor', 59174: 'gets', 59175: 'shorter', 26409: 'dee-fense', 26412: 'grunts', 26413: 'twice', 59182: 'simpson', 59198: 'sent', 42816: 'ripper', 26434: 'extended', 26435: 'warranty', 59205: 'applesauce', 59207: 'maggie', 42824: 'doppler', 59209: 'hours', 59210: 'ago', 42827: \"queen's\", 42829: 'surgeonnn', 10066: 'mistresses', 59221: 'leaving', 26466: 'sacajawea', 65258: 'mind', 59242: 'embarrassed', 61757: 'shirt', 10097: 'quimby_#2:', 59252: 'may', 59254: 'tried', 64489: 'guy', 59256: 'end', 42875: 'wipe', 26495: 'manatee', 10112: 'quimbys:', 42884: 'forget-me-shot', 59275: 'choked-up', 61763: 'face', 1689: 'meaningfully', 59298: 'write', 59304: 'passes', 42930: 'piling', 26548: 'cranberry', 10167: 'bell', 1486: 'chuckling', 1695: 'fringe', 10173: 'ye', 42945: 'unkempt', 59332: 'change', 59335: 'outlook', 26568: 'aah', 26572: 'painted', 26578: 'choices', 59348: 'road', 16533: '$42', 42969: 'attractive', 59354: 'reentering', 26588: 'scanning', 42974: 'spit', 26595: \"soakin's\", 59364: 'sweet', 21617: 'bid', 42984: 'spits', 59369: 'noosey', 10221: 'jebediah', 26608: 'nitwit', 42994: 'hmmm', 37203: \"summer's\", 59381: 'trip', 26615: \"knockin'\", 59384: 'turning', 26621: 'badmouths', 43006: 'retain', 59394: 'desperate', 59395: 'barflies', 26629: \"o'\", 43019: 'misconstrue', 43023: 'placing', 10256: 'support', 43025: \"cuckold's\", 43026: 'horns', 10259: 'prejudice', 43029: 'brow', 20825: 'ninth', 10266: 'hero-phobia', 10267: 'sickens', 69083: 'well', 59424: 'movies', 26659: 'mindless', 26660: 'droning', 26663: 'befriend', 59433: 'dump', 26666: 'conditioner', 59436: 'filthy', 34482: 'suck', 29021: 'thankful', 43057: 'boat', 26674: \"raggin'\", 59443: 'worldview', 43060: 'moon-bounce', 26677: 'conditioners', 59448: 'cleaning', 43065: 'amiable', 59453: 'growing', 10302: 'blood-thirsty', 10303: 'pirate', 64523: 'ze-ro', 43076: 'newsies', 10311: 'jubilation', 43080: 'lap', 59465: 'layer', 59467: 'dirt', 43086: 'scruffy_blogger:', 59471: 'congoleum', 4708: 'peanut', 26706: 'loneliness', 59475: 'hardwood', 43099: 'pad', 26716: 'guttural', 59485: 'jig', 59492: 'light', 53607: 'scream', 43120: 'politicians', 59507: 'open', 61801: 'germs', 59515: 'non-losers', 43134: 'covering', 43136: 'issues', 10369: 'waylon', 43142: 'declare', 43144: 'frontrunner', 26761: 'disgrace', 59533: 'getcha', 43150: 'mansions', 59537: \"we'll\", 43157: 'abolish', 43158: 'democracy', 26780: \"team's\", 45628: \"cleanin'\", 59556: 'bourbon', 43174: 'military', 26791: 'heartless', 43178: 'juan', 43179: 'perã³n', 43188: 'disappeared', 43196: 'madonna', 43200: \"what're\", 59586: 'glen', 26819: 'owns', 1984: 'cases', 53622: 'furious', 26822: 'isotopes', 43208: 'vote', 27626: 'dejected', 59605: 'venture', 26838: 'mafia', 26846: 'family-owned', 26847: 'teams', 59617: 'mostly', 59618: 'goes', 10470: 'distract', 43239: 'dennis', 43240: 'kucinich', 10474: 'safely', 59754: 'group', 43245: 'twerpy', 43252: 'dennis_kucinich:', 59640: 'many', 59641: 'bottles', 59644: 'kentucky', 59645: 'kool', 59646: 'aid', 47268: 'hug', 43268: 'candidate', 43272: 'unbelievably', 43273: 'ridiculous', 57634: 'kinderhook', 61826: 'fast', 27457: 'blank', 31791: 'glitz', 10524: 'choices:', 59677: 'product', 59680: 'fantastic', 59681: 'suit', 18139: 'low-life', 10534: 'barney-guarding', 59694: 'startup', 10543: 'contemplated', 59697: 'branding', 59698: 'specialists', 59702: 'corporate', 59703: 'jets', 59706: 'drivers', 26939: 'brine', 59711: 'touch', 59716: 'failed', 53817: \"gentleman's\", 50913: 'understood', 29068: 'gabriel', 15415: 'easter', 59724: 'sudden', 43343: 'table', 59736: 'glen:', 45455: 'billiard', 43360: 'tips', 43362: 'manuel', 59747: 'ken:', 26981: 'massive', 59753: 'focus', 43370: 'moustache', 10604: 'truck_driver:', 53650: 'awesome', 10606: 'delivery', 43378: 'ees', 26999: 'occasional', 59772: 'train', 59774: 'new', 59787: 'top', 27020: 'total', 27021: 'rip-off', 43406: 'mild', 10640: 'dracula', 59793: 'rafter', 59795: 'comforting', 27028: 'smurfs', 50926: 'laid', 10647: 'troy', 43422: 'backing', 59807: 'holidays', 27042: 'gangrene', 59812: 'corner', 10662: 'marry', 43435: 'reminded', 59821: 'recommend', 27054: 'cup', 27058: \"coffee'll\", 59827: 'expensive', 59828: 'beer:', 27061: 'trick', 59830: 'platinum', 27066: 'waking-up', 27070: 'instantly', 43456: 'lurleen', 59842: 'label', 59843: 'paste', 27079: \"nick's\", 43464: 'quarry', 59849: 'hairs', 59850: 'were', 67319: 'slop', 43468: 'stones', 43471: 'woodchucks', 59856: 'youth', 10705: 'jovial', 43477: 'lurleen_lumpkin:', 27094: 'rude', 43483: 'pleasant', 59868: 'sexy', 27103: 'hitchhike', 59878: 'babar', 26365: 'crayola', 43504: 'mailbox', 59894: 'confidential', 29097: 'gabriel:', 59897: 'married', 10746: 'ura', 59899: 'cousin', 59901: 'celeste', 43523: \"hadn't\", 43524: 'died', 59909: 'takeaway', 27144: 'emergency', 59914: 'royal', 59915: 'elephants', 59917: 'trainers', 10769: 'nasa', 59922: 'shape', 59924: 'average', 59925: 'schmoe', 59940: 'bald', 27175: 'nash', 43560: 'cell', 59947: \"can't-believe-how-bald-he-is\", 59950: 'dear', 50952: 'statistician', 67337: 'flowers', 59967: 'exactly', 10816: '70', 27201: 'smuggled', 27202: 'goods', 43592: 'butter', 43593: 'cookies', 43597: 'tasty', 59983: 'science', 59984: 'exhibit', 43601: 'almond', 43607: 'listens', 10840: 'voyager', 10842: 'craft', 27227: 'mic', 61750: 'shows', 10848: \"tab's\", 10849: '14', 10850: 'billion', 60007: 'weekly', 27240: '2nd_voice_on_transmitter:', 10857: 'alls', 60014: 'duh', 27250: '3rd_voice:', 60023: 'win', 47826: 'midge:', 10873: 'halfway', 27258: 'voice_on_transmitter:', 40042: 'obsessive-compulsive', 27266: 'presses', 10890: 'muscle', 10895: \"wino's\", 27285: 'informant', 10902: 'muffled', 10907: 'inches', 10909: 'bullet-proof', 60069: 'sisters', 27305: 'stinks', 60075: 'hunger', 60076: \"games'd\", 60081: 'womb', 64629: 'happens', 60096: 'life:', 60098: 'ninety-six', 10949: 'student', 10950: 'loan', 60103: \"number's\", 60107: 'reason', 27342: 'stole', 67363: 'romantic', 27352: 'thumb', 59173: 'afterglow', 50982: 'ballclub', 60136: 'winning', 27372: \"father's\", 43758: 'friendly', 10991: 'aggravazes', 60144: 'nineteen', 60146: 'twenty-two', 61907: 'goal', 43764: 'buying', 60151: 'knowing', 11002: 'benefits', 60158: 'gosh', 43778: 'compromise:', 51104: 'reasons', 11012: 'bothered', 60166: 'won', 60169: 'lottery', 60175: 'hundred', 60176: 'grand', 27409: 'lotsa', 60179: 'fifty', 60180: 'thousand', 27415: 'mission', 48260: 'hearse', 27420: 'fireworks', 27421: 'smugglers', 60192: 'celebrate', 11042: \"jimbo's_dad:\", 60196: \"ragin'\", 43815: 'luckiest', 27434: 'recorder', 56455: 'onion', 11055: \"dolph's_dad:\", 25464: 'truck', 60211: 'food', 27445: 'hootie', 60216: 'excited', 60217: 'gasp', 43834: 'remaining', 43835: 'scratcher', 11068: 'throws', 60221: 'mini-dumpsters', 27455: 'cheaper', 8552: 'incognito', 60226: 'wings', 11076: 'reasonable', 43853: 'gimme', 50561: 'side:', 34616: 'mail', 27474: 'wells', 27476: 'aer', 27477: 'lingus', 11095: \"kearney's_dad:\", 11098: \"somethin's\", 51002: 'frink', 27487: 'harder', 60257: 'gasoline', 11106: \"fallin'\", 60259: 'hot', 11111: \"fun's\", 27496: 'leprechaun', 60266: 'cares', 27505: 'cursed', 37353: 'reopen', 68566: 'seymour', 11129: 'two-drink', 61930: 'powerful', 43902: 'difficult', 27521: 'bear', 43907: 'propose', 43908: 'marriage', 60293: 'feeling', 60296: 'world', 43913: 'willing', 43916: 'halvsies', 43919: 'ring', 60307: 'plans', 11156: 'three-man', 11157: \"poundin'\", 60310: 'winnings', 13465: 'burnside', 60315: 'build', 43934: 'edna_krabappel-flanders:', 60320: 'swimming', 60321: 'pool', 43938: 'lugs', 60326: 'freaking', 43944: 'boyfriend', 11177: \"kid's\", 60330: 'ground', 49473: 'cushions', 11193: 'beatings', 64671: 'rummy', 60349: 'share', 43970: 'splendid', 43972: 'shall', 11206: 'spirit', 43979: 'weather', 11212: 'prizefighters', 60367: \"cashin'\", 27606: \"heat's\", 61945: 'veteran', 60379: 'held', 60382: 'traffic', 67408: 'until', 60389: 'probably', 1384: 'phlegm', 11242: 'perking', 60398: 'keeping', 53758: 'dunno', 27645: 'slugger', 1877: 'proposition', 11269: 'lobster', 60423: 'worried', 32018: 'cab_driver:', 60432: 'ripped', 8559: 'gr-aargh', 11286: 'dressing', 67417: 'drift', 27680: 'italian', 44067: 'tying', 27685: 'pulling', 53431: 'completing', 44073: 'crippling', 44074: 'mortgage', 44077: 'refinanced', 44079: 'twenty-six', 44080: 'percent', 60465: 'tense', 44083: 'dancing', 44084: 'internet', 67422: 'read', 60471: 'went', 11320: 'limits', 60474: 'voicemail', 60485: 'offensive', 60492: 'sickened', 11341: 'arise', 44110: 'encouraged', 33657: 'wrestle', 60497: 'course', 27731: 'morlocks', 60500: 'disgusted', 11352: 'clincher', 44123: 'half-day', 44128: 'encouraging', 11364: 'sixty', 60521: 'moolah-stealing', 60522: 'jackpot-thief', 44144: 'lonely', 44145: 'widow', 60531: \"something's\", 60532: 'reflected', 44150: 'option', 60535: 'lenses', 60537: \"carl's\", 60538: 'sunglasses', 27779: \"spyin'\", 44164: 'squad', 44165: \"could've\", 44166: 'cheered', 11400: 'wantcha', 60555: 'geyser', 11404: 'faith', 27790: 'assumed', 44175: 'runners', 59542: 'aged', 60562: 'front', 44179: 'ninety-seven', 27797: 'stupidest', 29209: 'creme', 27807: 'entire', 27809: 'valley', 27811: 'series', 44196: 'break-up', 60585: 'backwards', 60595: 'reading', 11445: '1979', 60598: 'strokkur', 27831: 'shaggy', 11452: 'office', 60610: 'buddy', 44229: 'cheated', 60617: 'catching', 64717: 'chief', 51064: 'gary:', 27858: 'bellyaching', 60627: 'pain', 44246: 'gifts', 29297: 'seconds', 44248: 'fancy', 44249: 'soaps', 44251: 'massage', 44252: 'oils', 11485: 'presentable', 60642: 'water', 11491: 'gruesome', 60647: 'killed', 27880: 'crank', 60649: 'grandmother', 60659: 'singers:', 60663: 'candy', 60667: 'serve', 27905: 'pointing', 11523: 'bucket', 60676: 'bring', 60677: 'minors', 44295: \"lenny's\", 48939: 'sweeter', 60682: 'fat_in_the_hat:', 44299: 'doreen:', 27916: 'dumb-asses', 44302: 'shock', 54851: 'muertos', 60691: 'smells', 44308: 'talked', 60693: 'skunk', 59268: 'excuse', 27930: 'lowers', 60701: 'wrong', 60704: 'furry', 27946: 'routine', 60720: 'rhyme', 27954: 'yak', 60728: \"children's\", 44351: 'maiden', 60738: 'grab', 11587: 'gorgeous', 60743: 'vodka', 51084: 'rueful', 3159: 'terror', 60749: 'knit', 1933: 'sweat', 60752: 'thnord', 27986: \"d'ya\", 60755: 'leathery', 60756: 'skin', 44375: 'nicer', 27992: 'shesh', 60762: 'marmaduke', 60764: 'horrible', 11620: 'forty', 28009: 'smiled', 44396: \"she'll\", 28014: 'nailed', 60786: 'crossed', 11636: 'politics', 11648: 'democrats', 60803: 'hidden', 60804: 'camera', 60807: 'sips', 60812: 'selfish', 11663: 'causes', 67480: 'nods', 64750: 'terrible', 44440: 'goodwill', 44441: 'attached', 11676: 'boxcar', 28064: 'jigger', 11681: 'brawled', 28070: \"where'd\", 11687: 'boxcars', 60840: 'butt', 60844: 'radioactive', 60845: 'hellhole', 28084: 'recently', 60856: 'superpower', 44478: 'direction', 44479: \"mecca's\", 28097: 'illustrates', 11714: 'fighter', 4683: \"smokin'_joe_frazier:\", 60868: 'clean', 44485: \"don'tcha\", 11721: 'fighting', 44490: 'oughtta', 44494: 'dint', 28111: 'swigmore', 28112: 'u', 44497: \"son's\", 67491: 'fish', 60885: 'whoa-ho', 60888: 'idea', 44505: \"bashir's\", 44509: 'derek', 44510: 'jeter', 44512: 'mariah', 28129: 'fills', 60898: 'finding', 60902: 'spied', 45673: 'clears', 60908: 'looooooooooooooooooong', 60909: 'experience', 42920: 'blue', 60917: 'seem', 60920: 'found', 60923: 'accident', 44037: 'way:', 44541: 'muslim', 60927: 'snaps', 60928: 'fingers', 60935: 'schedule', 60937: 'appointment', 11786: 'stinger', 28171: 'searching', 60940: 'therapist', 60943: 'hers', 44561: 'fictional', 44563: 'program', 44564: 'espousing', 28181: 'putting', 44568: 'view', 60955: \"waitin'\", 28189: 'alma', 28190: 'mater', 44577: 'fayed', 44584: 'nerve', 60972: 'ideas', 44589: 'under', 44591: 'statue', 44593: \"liberty's\", 44597: 'arab_man:', 60982: 'divorced', 48394: 'enjoyed', 60994: 'rules', 11849: \"tramp's\", 28235: 'urban', 44623: 'bashir', 34744: 'aristotle:', 44629: 'principles', 11863: 'stops', 11864: 'punching', 37476: 'brief', 11868: \"'cept\", 67514: 'happened', 61022: 'decide', 44639: 'employment', 44641: 'housing', 61029: 'pressure', 44647: 'patriotic', 61035: 'channel', 61037: 'tip', 61038: 'line', 11887: \"now's\", 53864: 't-shirt', 61042: 'caught', 61045: \"doin'\", 11894: 'nudge', 12905: 'doof', 61049: 'alley', 44668: 'dessert', 11903: 'delightful', 44672: 'jack', 44673: 'bauer', 51137: 'horribilis', 11914: 'lucius', 61069: 'source', 61072: 's-a-u-r-c-e', 29294: 'proves', 61078: 'touches', 61079: 'earpiece', 61087: 'reliable', 61088: 'sauce', 61090: 'news', 61091: 'involving', 61092: 'multiple', 44709: 'bitter', 11942: 'managing', 45681: 'month', 11947: 'highest', 11948: 'priority', 44717: 'sanctuary', 11954: 'temporarily', 11955: 'incarcerated', 61108: 'possibly', 11957: 'pushing', 61110: 'senators', 29300: 'buffet', 11962: 'stairs', 61116: 'named', 61117: 'later', 11967: 'impending', 61120: 'senators:', 61122: 'kent_brockman:', 11972: 'strategizing', 11975: 'glorious', 28360: \"when's\", 61129: 'senator', 61130: 'beaumont', 11979: 'shores', 11981: 'fistiana', 61140: \"plaster's\", 61141: 'flaking', 11995: 'comeback', 34768: 'weep', 32038: \"springfield's\", 61166: 'remember', 12016: \"donatin'\", 32040: 'supermodel', 28411: 'slyly', 51157: 'conspiratorial', 12032: 'manage', 12034: 'stalwart', 12036: 'pugilist', 61196: 'lay', 44816: 'super-tough', 44817: 'africanized', 61204: 'quit', 61205: \"stallin'\", 12932: 'nasty', 44827: 'magazine', 44831: 'honeys', 61217: 'groans', 12066: 'fights', 61219: 'feels', 28455: 'natured', 44846: \"lisa's\", 28467: 'splattered', 12087: 'sustain', 12088: 'verticality', 28474: 'jubilant', 61243: 'squeals', 45706: \"callin'\", 28772: 'formico:', 53899: 'schemes', 12100: 'boxer', 44870: 'combine', 44872: 'dna', 61257: 'quietly', 44875: 'strains', 12109: \"tatum'll\", 12110: 'fustigate', 44879: 'species', 12117: 'fustigation', 61270: 'ringing', 42980: 'served', 28506: 'fonzie', 61275: 'louder', 12125: 'choice:', 61281: 'omigod', 28518: 'hemorrhage-amundo', 12137: 'faded', 12138: 'memories', 44909: 'bees', 61295: 'suddenly', 44914: 'protesting', 61302: 'lisa', 28538: 'yello', 61313: 'frustrated', 12163: 'lucius:', 12165: 'rounds', 64833: 'jump', 42989: 'bottoms', 64835: 'conclusions', 36088: 'junebug', 2031: 'pursue', 44958: 'anonymous', 59376: 'gently', 12194: 'tar-paper', 12199: 'naively', 28588: 'ollie', 61357: 'liser', 53917: 'adopted', 44984: 'buzziness', 4767: 'occupancy', 12220: 'champion', 28605: 'yell', 28611: 'booger', 44997: 'impatient', 29345: 'punches', 45003: \"they'd\", 61400: 'sometime', 28636: 'dirty', 67578: 'happen', 45023: 'connor-politan', 45034: 'oh-so-sophisticated', 61422: \"you'd\", 45040: 'stick', 12276: 'hobo', 28661: 'hardhat', 12281: 'evasive', 28670: 'wrecking', 61439: 'woo-hoo', 45056: 'connor', 44163: 'pep', 61447: 'daughter', 45064: 'kidneys', 61450: 'cletus_spuckler:', 28686: 'fainted', 64856: \"moe's_thoughts:\", 45077: 'vance', 61465: 'invented', 61466: 'air', 61467: 'conditioning', 16777: 'rugged', 28707: 'professor', 45095: 'exchange', 45099: 'guilt', 51148: 'resolution', 28718: 'renew', 61488: 'welcome', 61489: 'fellow', 61490: 'barkeeps', 61492: 'gin-slingers', 65333: 'bedtime', 61495: 'beer-jerks', 61500: 'grim', 12360: 'charged', 61516: 'pop', 61517: 'bartenders', 28751: 'twentieth', 12369: 'landfill', 61523: 'stores', 45140: 'graves', 61528: 'hooch', 28761: 'dean', 45147: 'shoots', 24417: 'slot', 28769: 'formico', 21179: 'it:', 64789: 'pleased', 12391: 'burg', 61544: 'pub', 61548: 'clientele', 61549: 'dress', 12399: 'pussycat', 61552: 'costume', 43027: 'upon', 12407: 'doll-baby', 61562: 'masks', 61566: 'uninhibited', 62144: 'ding-a-ding-ding-ding-ding-ding-ding', 45194: 'dig', 45197: 'ballot', 28817: 'snap', 28821: 'certified', 28822: 'contractors', 12440: 'starla', 12443: 'starla:', 45212: 'gore', 61601: 'shuts', 28834: 'pages', 59419: 'noose', 45221: 'presidential', 45223: 'stolen', 61609: 'superhero', 12459: 'wigs', 61613: 'charge', 12467: \"starla's\", 12469: 'temp', 61622: 'fury', 12471: 'k-zug', 58245: 'coat', 12473: \"'kay-zugg'\", 61626: 'schnapps', 12476: '530', 45245: 'al_gore:', 61631: 'batmobile', 28865: 'eventually', 12483: 'launch', 61637: \"'ere\", 61519: 'compete', 61644: 'portfolium', 45261: 'prize', 45266: 'falsetto', 34851: 'raise', 45269: 'alfred', 45270: 'nobel', 11873: 'bindle', 61656: 'magic', 59428: 'watch', 61658: 'powers', 4815: 'snake-handler', 45276: 'albert', 28897: 'noticing', 61667: 'created', 45287: 'sick', 12520: 'borrow', 28905: 'hippies', 45292: \"marge's\", 45293: 'landlord', 45295: 'fix', 28914: 'rem', 53971: 'novel', 28916: 'apology', 61686: 'whenever', 28919: 'eco-fraud', 45304: 'and-and', 61690: 'virility', 28924: 'reluctant', 45310: 'getaway', 62165: 'blade', 32128: \"maggie's\", 45314: 'seas', 66431: 'them', 61700: 'very', 61701: 'virile', 34496: 'lungs', 22997: 'radishes', 61706: 'weirded-out', 61707: 'noises', 28943: 'rainforest', 28946: 'peter_buck:', 61717: 'sports', 45343: 'flanders:', 61728: 'tom', 61729: \"brady's\", 61730: 'libido', 45348: 'media', 28966: 'mike', 2097: 'flaming', 28968: 'supplying', 45353: 'expose', 12586: 'housework', 59442: 'positive', 28974: 'entirely', 28979: 'mike_mills:', 28980: 'tofu', 28982: 'gluten', 45370: 'dateline', 28989: 'ate', 61760: 'rocks', 28995: 'michael_stipe:', 61766: 'sets', 45384: 'upbeat', 34871: 'cent', 21218: 'atlanta', 45390: 'nominated', 15757: 'gear-head', 29008: 'sniffs', 45393: 'peabody', 29010: 'satisfied', 29013: 'mmmmm', 29015: 'curds', 45403: 'kent', 51258: 'compare', 45408: '6', 45409: 'exclusive:', 29026: 'thanksgiving', 45411: 'evil', 29032: 'alternative', 45417: 'forty-two', 45418: 'evergreen', 45419: 'terrace', 12655: 'self-centered', 45425: 'suburban', 27154: 'dollface', 59454: 'excitement', 45430: 'dating', 45432: 'actress', 61818: \"comin'\", 45435: 'seemed', 12674: 'though:', 12684: 'meal', 61838: 'paying', 61839: 'customers', 45456: 'balls', 12690: 'thawing', 61844: 'grateful', 12697: 'station', 12698: 'sink', 61855: 'pats', 29090: 'mortal', 29091: 'equivalent', 61860: \"must've\", 18502: 'mommy', 45481: \"spiffin'\", 61870: 'lowering', 10312: 'committee', 29107: 'angel', 61883: 'corn', 29116: 'temper', 61885: 'toss', 61886: \"'em\", 45503: 'inquiries', 61892: 'louie:', 61897: 'business', 12750: 'broken:', 61904: 'eighty-five', 61905: 'yard', 61906: 'field', 29139: 'deliberately', 12758: 'foundation', 29147: 'girl-bart', 61917: 'refresh', 65334: \"readin'\", 61920: 'nfl_narrator:', 61926: 'breathtaking', 61927: 'ignorance', 29162: 'loathe', 61931: 'dislike', 36092: 'windshield', 61934: 'sport', 61937: 'rookie', 61938: 'housewife', 45555: 'enabling', 61941: 'defeated', 29175: 'knives', 61944: 'savvy', 51284: 'planned', 45575: 'mags', 61960: 'homie', 67671: 'oooh', 29197: \"lady's\", 12814: 'helpful', 64941: 'thrown', 45585: 'uncle', 12818: 'crony', 32174: 'scoffs', 45590: 'taught', 29208: \"'n'\", 45593: 'abcs', 29210: 'martini', 12827: 'sam:', 29213: 'amber_dempsey:', 45598: 'a-b-', 45600: 'forgets', 12833: 'bumblebee_man:', 12834: 'compadre', 65895: \"we'd\", 45604: 'p-k', 12837: 'kearney_zzyzwicz:', 12838: 'associate', 15793: 'edelbrock', 12844: 'contemporary', 26717: 'klingon', 62001: 'comfortable', 12850: 'well-wisher', 45620: \"s'pose\", 62006: \"tv'll\", 62007: 'cheer', 29240: 'annoying', 12859: 'specific', 12860: 'harm', 62018: \"yesterday's\", 62019: 'whatsit', 62023: 'everyone', 54028: 'window', 12876: 'friday', 29262: 'night-crawlers', 29267: 'bragging', 62041: 'lifestyle', 29276: 'mole', 62046: 'express', 29284: 'wowww', 34800: 'flush-town', 12902: 'dã¼ff', 62055: 'midge', 29289: 'amber', 12908: 'sweden', 45678: 'began', 62065: 'contract', 12916: 'skoal', 62070: 'warn', 41893: 'mary', 45692: \"she'd\", 13077: 'wittgenstein', 29314: 'clothespins', 62083: 'fast-food', 62084: 'industry', 29318: 'attach', 62090: 'serious', 54039: \"'\", 45710: 'liar', 54040: 'gregor', 12948: 'handing', 62103: 'hibachi', 62106: \"how're\", 45850: 'uncomfortable', 45727: 'stood', 59504: 'improved', 12962: 'tick', 62116: 'lying', 12970: 'bold', 12972: 'refreshing', 62125: 'transfer', 64263: 'africa', 62130: 'electronic', 62131: 'hyper-credits', 63172: 'tie', 45751: 'regretful', 62140: 'cash', 62141: 'register', 29374: 'swallowed', 29376: 'inserted', 33712: 'david_byrne:', 45764: 'term', 29384: 'clipped', 62153: 'round', 62158: 'ding-a-ding-ding-a-ding-ding', 29393: 'sixteen', 45781: \"bein'\", 45782: 'polite', 32207: 'tokens', 13020: 'breathalyzer', 62174: 'spender', 45791: 'invite', 62176: 'plus', 62178: 'fixed', 67707: 'saga', 29412: 'magnanimous', 37670: 'themselves', 29414: 'victory', 62183: 'gossipy', 66993: 'heave-ho', 62194: 'jukebox_record:', 18558: 'tearfully', 45814: 'tidy', 62199: 'baby', 64980: 'theater', 13050: 'recreate', 62209: 'hate', 13059: 'alien', 29444: \"clancy's\", 29446: 'op', 62220: 'i-i', 62224: 'robot', 62226: 'incapable', 62228: 'emotion', 45845: 'benjamin', 45846: 'button', 13082: 'backgammon', 13085: 'dana_scully:', 62239: 'true', 29472: 'lovers', 13092: 'felony', 62247: 'huge', 10376: 'vicious', 45874: 'life-sized', 29491: 'newsweek', 13111: 'packets', 45880: 'taken', 13113: 'mustard', 67541: \"there's\", 21301: 'adventure', 64992: 'princesses', 62277: 'less', 13127: \"fine-lookin'\", 29514: 'thrust', 62283: 'bender:', 62289: 'came', 40419: 'pure', 29497: 'failure', 56804: 'wiggle-frowns', 2191: 'information', 45916: 'unlike', 45882: 'legoland', 62302: 'toasting', 45922: \"stealin'\", 29541: 'distributor', 45926: 'chinese', 45927: 'restaurant', 29549: 'lifetime', 29550: 'supply', 62319: 'terrifying', 62320: 'tale', 45939: 'espn', 62324: 'quebec', 62325: 'nordiques', 29558: 'chug-monkeys', 62328: 'spooky', 29561: 'beverage', 62331: 'colorado', 62332: 'avalanche', 62335: 'lisa_simpson:', 54027: 'stained-glass', 45953: 'ling', 45954: 'chow', 29571: 'hops', 34264: 'toys', 29573: 'grains', 62342: 'closed', 13192: 'anyhow', 13195: 'fox_mulder:', 13196: 'agents', 13197: 'mulder', 29582: 'grain', 65005: 'wheels', 45972: 'shrugs', 62358: 'box', 62359: 'music', 13208: 'fbi', 65007: 'witches', 13214: \"s'cuse\", 62367: 'woozy', 13222: 'dimly', 45991: 'maya:', 62377: 'driving', 48626: 'radiation', 48627: \"poisonin'\", 29625: \"time's\", 62395: 'verdict', 13244: 'generously', 62397: 'overturned', 62400: 'sequel', 62402: 'heh', 29636: 'reading:', 4940: 'laramie', 46032: 'playful', 29649: 'woulda', 2212: 'motto', 46043: 'incredible', 13281: 'raking', 62436: 'neon', 62437: 'sign', 43175: 'dictator', 62446: 'sincere', 24061: 'maintenance', 62458: 'repairman', 46079: 'uneasy', 62471: 'um', 67756: 'degradation', 46096: 'thought_bubble_lenny:', 4953: 'regulations', 65028: 'achebe', 62492: 'large', 29725: 'arrange', 13342: 'recall', 46111: \"somethin':\", 29728: 'escort', 46119: 'generally', 46120: 'dynamite', 29532: 'trivia', 29739: 'orgasmville', 62509: 'ma', 18611: \"homer'll\", 13150: 'remorseful', 48649: 'cards', 34270: 'brotherhood', 46141: 'treat', 62531: 'forget', 62533: 'image', 46150: 'limericks', 62536: 'bolting', 62539: 'parking', 48654: 'impressed', 46166: 'island', 46169: 'coast', 46171: 'massachusetts', 29788: 'enlightened', 62557: 'totally', 62558: 'calm', 46177: 'nantucket', 29794: 'television', 29795: 'producers', 29798: 'booking', 29801: 'mid-seventies', 46190: 'unusual', 46191: 'personal', 46192: 'characteristic', 62584: 'pity', 62589: 'wrapped', 29822: 'alcoholic', 62592: 'leg', 29828: 'appear', 46217: 'simplest', 66757: 'problems', 29838: 'alky', 62607: 'promised', 46225: 'dumbass', 45934: 'chinese_restaurateur:', 13464: 'ambrose', 62617: 'shoulders', 46237: 'innocent', 46239: 'whistling', 46240: 'nonchalantly', 29858: 'payday', 13476: 'stonewall', 13477: 'jackson', 62630: 'sing', 46247: 'bully', 62632: 'si-lent', 62634: '/', 62635: 'ho-ly', 67784: 'go', 62646: 'eve', 23363: 'social', 29883: 'rented', 13500: 'mill', 46269: 'given', 56864: 'slurred', 50096: 'brain', 62665: 'uh-oh', 62669: \"startin'\", 46286: 'follow', 46288: 'advice', 13525: 'aerospace', 29910: 'swings', 29914: \"battin'\", 29915: 'cage', 46301: 'jail', 29918: 'perverted', 40485: 'wang', 62691: 'gift:', 13541: 'knowingly', 62694: 'set', 29927: 'winner', 62696: 'clock', 13549: 'hoped', 62702: 'correct', 46325: 'chained', 29944: 'sprawl', 29945: 'space', 62715: 'shrieks', 62720: 'late', 46337: 'tomato', 46339: 'tomahto', 59606: 'capitalists', 13576: \"swishifyin'\", 13577: 'effect', 46347: 'maya', 13584: \"mtv's\", 29971: 'bought', 29974: 'hockey-fight', 62743: 'angrily', 46360: 'comedies', 62340: \"toot's\", 24111: 'grunt', 62755: 'sings', 46372: 'gesture', 62758: 'king', 15921: 'dateline:', 62760: 'looked', 62764: 'feast', 46381: 'blow', 62770: 'karaoke_machine:', 62773: 'accent', 46393: 'blows', 62779: 'karaoke', 62781: 'shutting', 62782: 'doooown', 62784: 'bye', 67808: 'lock', 13634: 'lessee', 37007: 'disapproving', 35042: 'liability', 37773: 'diamond', 24120: 'wraps', 47009: 'toe', 13652: \"shootin'\", 62805: 'thoughtful', 13654: \"man'd\", 62810: \"homer's\", 62811: 'weight', 62814: 'thirty-nine', 62818: \"foolin'\", 13668: 'wars', 62823: 'car:', 62824: 'force', 62826: 'habit', 13675: 'warren', 46455: 'sidelines', 62843: 'hateful', 62848: 'chubby', 62850: 'chunky', 51435: 'admiration', 62852: 'blobbo', 13206: 'edgy', 62854: 'slobbo', 46471: 'realize', 62857: 'bastard', 62859: 'michelin', 62862: 'stay-puft', 62864: 'chumbawamba', 30097: 'stands', 32323: 'simple', 13717: 'sodas', 62872: 'balloon', 62875: 'papa', 62876: 'grandã©', 62878: 'augustus', 62879: 'gloop', 62881: 'beached', 62882: 'whale', 62885: 'boned', 13734: 'grandkids', 62887: 'wisconsin', 62888: 'skinny', 62890: 'butterball', 62892: 'dumptruck', 13741: 'considers', 62894: 'jelly', 62897: 'pudgy', 62898: 'wudgy', 51443: 'self-made', 62900: 'lard', 62903: 'blubberino', 62905: 'buddha', 62906: 'belly', 54175: 'square', 62908: 'hurry', 13758: 'st', 62913: 'ton', 62914: 'soup', 30148: 'lookalike:', 46533: 'insults', 46534: 'disguised', 46536: 'compliments', 62921: 'saget', 62923: 'chub', 62924: 'hub', 21410: 'supervising', 62926: 'calvin', 62927: 'cool', 62928: 'whip', 62930: 'manfred', 46547: 'takes', 30164: 'exited', 62933: '21', 62934: 'lump', 62935: 'street', 46553: 'wear', 30170: 'trunk', 62941: 'fatso', 30175: 'grandiose', 46560: 'circus', 62945: 'chocolate', 62947: 'obese', 62949: 'cannoli', 32337: 'knife', 62952: 'gumbo', 62954: 'salvador', 62955: 'deli', 63745: 'yep', 62957: 'elmer', 62958: 'pantry', 62962: 'f', 30195: 'rainier', 30196: 'wolfcastle', 46581: 'clown-like', 62968: 'sponge', 62969: 'cake', 62970: 'band', 67839: 'muscles', 13820: 'metal', 5034: 'event', 30208: 'ohmygod', 62978: 'flips', 62979: 'page', 62983: 'foodie', 62984: 'blues', 62986: 'hoagie', 62987: 'carmichael', 30220: 'ab', 30221: 'roller', 62990: 'load', 30223: 'endorse', 46610: 'un-sults', 62996: 'mr', 39735: 'strolled', 30230: 'results', 62999: 'belts', 46618: 'envy-tations', 46620: 'hate-hugs', 46622: 'spamming', 46624: 'faint', 30241: 'backward', 13859: 'cheapskates', 52290: 'nein', 46631: 'stagy', 13870: 'minister', 46639: 'frozen', 13872: 'ireland', 51464: 'suspect', 63029: 'glad', 30262: 'leftover', 7775: 'goo', 13890: 'menacing', 63044: 'gargoyle', 13894: 'yew', 63047: 'troll', 30280: 'rainier_wolfcastle:', 63051: 'homunculus', 13903: 'bathtub', 13904: 'mint', 63057: \"feelin's\", 30293: 'lookalike', 46009: 'passenger', 63064: \"kiddin'\", 19558: 'alva', 63070: 'dreamed', 63075: 'kind', 30310: 'macaulay', 30311: 'culkin', 63081: 'feelings', 46702: 'teenage', 30321: 'killing', 30323: 'enemy', 30328: 'alpha-crow', 63097: 'pridesters:', 63099: 'chanting', 63105: 'proud', 63113: 'crowd', 30351: 'enveloped', 13968: 'neither', 63123: 'movement', 46740: 'take-back', 63127: 'join', 63130: 'learned', 63134: 'important', 46751: \"people's\", 63136: 'drinking:', 63137: 'eating', 63151: 'answer', 30386: 'crow', 63158: 'relaxed', 62409: 'heading', 56948: 'icy', 30394: 'crowbar', 63163: 'first', 14017: 'jane', 14018: 'fonda', 14020: 'daniel', 14021: 'schorr', 63175: 'apron', 14024: 'anderson', 63177: 'limber', 32375: 'skinheads', 63181: \"tap-pullin'\", 63182: 'arm', 14032: 'richard', 14033: \"nixon's\", 67875: 'stool', 63189: 'extremely', 63190: 'intense', 46808: 'unison', 14045: 'yours', 30432: 'delicious', 63201: 'casual', 46819: 'eager', 63208: 'supposed', 56956: 'character', 63211: 'drive', 46831: 'grabs', 30449: 'wacky', 46834: 'reads', 46835: 'happily:', 63222: 'knew', 68664: 'often', 63224: 'sooner', 46841: 'community', 46842: 'playhouse', 46844: 'bathed', 51049: 'calculate', 37845: 'meatpies', 30469: 'intervention', 30478: 'planning', 14097: 'expecting', 30483: 'poisoning', 30488: 'nearly', 63257: 'woo', 63258: 'hoo', 46878: 'glowers', 30500: 'excuses', 46886: 'reviews', 14119: 'fork', 30506: 'funeral', 63283: 'pick', 14138: 'chauffeur', 46909: 'easier', 14143: 'lift', 63296: 'mel', 46914: 'acting', 40587: 'army', 63301: 'afternoon', 50663: 'leak', 46921: 'courage', 26935: 'eye-gouger', 63308: 'tab', 63311: 'says', 46928: 'fail', 30546: 'forty-seven', 46933: 'inspiring', 63319: 'skirt', 46939: 'x-men', 46940: '2', 15202: 'lecture', 46945: 'losing', 67899: 'audience:', 46948: 'macbeth', 63335: 'ticket', 46952: 'mac-who', 63338: 'laney', 63339: 'fontaine', 14188: \"washin'\", 46957: 'gulliver_dark:', 63344: 'broad', 63346: 'broadway', 49304: 'worst', 14198: 'desperately', 63353: 'vulgar', 63355: 'fulla', 63356: 'hollywood', 47937: 'size', 14207: 'belly-aching', 13291: 'greetings', 63365: 'jimmy', 63366: 'stewart', 63369: 'super-nice', 30603: 'here-here-here', 46988: 'punch', 63374: 'geez', 46993: 'bedridden', 28682: 'giggle', 63384: \"can'tcha\", 47002: 'unable', 14235: 'abe', 30622: 'shaker', 51923: \"man's_voice:\", 14242: 'dea-d-d-dead', 14246: 'stooges', 63407: \"workin'\", 63410: 'days', 47029: 'paintings', 47033: 'thought_bubble_homer:', 47035: 'melodramatic', 56992: 'rotten', 63430: 'favor', 47052: 'nonsense', 30669: 'dinks', 14287: 'cans', 30673: \"ma'am\", 47062: 'training', 47069: 'heavyweight', 47070: 'champ', 47072: 'tatum', 63457: 'quickly', 63458: 'points', 63460: 'items', 47077: 'offended', 63464: 'shotgun', 63465: 'shells', 14315: 'love-matic', 30700: 'canoodling', 30702: 'junkyard', 30703: 'rabbits', 63472: 'lime', 14321: 'socratic', 47091: 'black', 30708: 'horrified', 14326: 'swelling', 14328: 'mushy', 21503: 'idiots', 63484: 'dressed', 14334: 'hearts', 32829: 'send', 30723: 'ashamed', 63494: 'theatah', 30732: 'soothing', 16244: 'further', 63503: 'exits', 47123: 'hibbert', 63510: 'barely', 47128: 'bleeding', 47129: 'gums', 47130: \"murphy's\", 63515: 'rub', 14367: 'pinball', 30760: 'between', 63530: 'saturday', 13319: 'nervously', 14390: 'western', 54281: 'trolls', 63544: 'free', 7861: 'spite', 14400: 'dishrag', 47171: \"pressure's\", 30789: 'tropical', 63559: 'filled', 63563: \"buyin'\", 14412: 'crab', 63566: 'hoping', 63568: 'meet', 14417: 'talkers', 30805: 'windelle', 63575: 'brilliant', 30810: 'windex', 14432: 'jewish', 37904: 'british', 63586: 'beauty', 63587: 'part', 30820: 'muhammad', 30821: 'ali', 30825: 'prime', 49036: 'wolverines', 63598: 'sight', 30831: 'anti-lock', 30832: 'brakes', 47217: 'bon-bons', 47220: 'general', 63606: 'cheery', 63607: 'red', 63608: 'tomatoes', 30841: 'johnny', 30842: 'mathis', 14459: 'charm', 30844: 'diet', 63613: 'bachelorette', 63614: 'party', 63620: 'ooh', 63622: 'lady', 63623: 'duff', 63626: 'lady_duff:', 54295: 'fuzzlepitch', 47244: 'sweetly', 14478: 'grrrreetings', 30870: 'present', 14488: 'floated', 2415: 'hans:', 47262: 'declared', 30879: 'koi', 30880: 'pond', 63652: 'any', 30887: 'meditative', 30888: 'lily-pond', 14505: 'awed', 63658: 'yet', 47276: 'pouring', 26994: 'although', 30895: 'fry', 63664: 'hearing', 63666: 'interesting', 63667: 'conversation', 14516: 'darn', 14517: \"tootin'\", 63671: 'book', 63672: 'clubs', 14521: 'fink', 47291: 'microbrew', 21536: 'insulin', 63682: 'heaven', 63683: \"lovers'\", 63684: 'club', 47301: 'pipe', 14534: 'ping-pong', 63689: 'spiritual', 47307: 'cobra', 63692: 'other_book_club_member:', 21539: 'detective_homer_simpson:', 63700: 'slow', 63705: 'threatening', 47328: 'cupid', 18811: \"that'd\", 47888: 'gay', 30950: 'super-genius', 14567: 'plug', 63721: 'kindly', 47340: 'cutie', 52689: 'grin', 47343: 'standards', 30960: 'certainly', 30962: 'lenford', 63735: 'charming', 30968: 'celebration', 47355: 'unattended', 14591: \"usin'\", 14593: \"phone's\", 14595: 'four-drink', 63749: 'cozy', 30982: 'mini-beret', 14601: 'aside', 63758: 'whaaaa', 47379: 'unlucky', 63767: 'precious', 63768: 'craphole', 63771: 'book_club_member:', 63773: 'tries', 31006: \"this'll\", 14625: 'test-', 31011: 'speed', 14628: 'test-lady', 63781: 'lovely', 63782: 'bones', 14632: \"g'ahead\", 47401: 'relax', 63786: 'floor', 31023: 'nos', 47410: 'awful', 63795: 'nuts', 14645: 'clammy', 31035: 'killer', 63806: 'tester', 63811: 'moan', 63814: 'ruined', 63817: 'laney_fontaine:', 63824: 'losers', 14673: 'lovelorn', 14675: 'you-need-man', 63829: \"they've\", 63830: 'bounced', 14679: 'go-near-', 63836: 'singing', 63841: 'brassiest', 63842: 'piece', 63844: 'sass', 63848: 'damn', 31081: 'drown', 63855: 'cost', 14706: 'endorsement', 63861: 'woman', 31095: 'railroad', 63864: 'certain', 63865: 'age', 63868: 'heaving', 63869: 'sobs', 21767: 'sympathy', 65259: \"ridin'\", 31116: 'weary', 47505: 'ventriloquism', 63890: 'fine', 65262: 'cute', 14742: 'betty:', 63904: 'mouths', 14753: \"tester's\", 47525: 'approval', 14764: 'breakfast', 37960: 'lindsay', 31154: 'stab', 47539: 'cure', 47541: 'ails', 63929: \"i-i'm\", 47546: 'mm', 67999: 'class', 63932: \"snappin'\", 47550: 'odd', 31171: 'simon', 63941: 'ruint', 31174: 'up-bup-bup', 63945: 'sob', 63947: \"i-i'll\", 47566: 'cuddling', 63953: 'savings', 47573: 'clothes', 33705: 'selling', 63962: 'rubbed', 63964: 'nickels', 47581: 'steaming', 47582: 'cocoa', 47583: 'mixed', 47585: 'rainbows', 65275: 'shyly', 47592: 'surprised/thrilled', 14828: 'rush', 63984: 'opening', 47602: 'full-bodied', 63994: 'defected', 47611: 'full-blooded', 63996: 'north', 63997: 'korea', 64002: \"ol'\", 64003: 'dae', 64004: 'ho', 64006: 'used', 47624: 'blend', 14858: \"'evening\", 64011: 'pickles', 64014: 'sandwich', 68013: 'rich', 14864: \"'morning\", 56688: \"they'll\", 47634: 'harmony', 14869: 'chauffeur:', 47640: 'loyal', 64025: 'copy', 68015: \"aren't\", 31266: 'badges', 64035: 'pass', 64037: 'background', 12498: 'demo', 64042: 'ummmmmmmmm', 32684: 'delicately', 64046: 'ehhhhhhhh', 47664: 'hemoglobin', 14897: '91', 64050: 'errrrrrr', 47670: \"disrobin'\", 14903: 'accidents', 64058: 'ehhhhhh', 47678: 'stopped', 47680: 'crying', 40715: 'published', 68022: 'born', 54369: 'extra', 47690: 'rosey', 47694: 'bubbles-in-my-nose-y', 31316: 'homer_doubles:', 47703: \"mo'\", 14936: 'choose', 31321: 'len-ny', 64091: 'apply', 64094: 'week', 31327: 'homers', 38687: 'gun', 64099: 'relieved', 47717: 'kodos:', 47720: 'measure', 47721: 'distance', 14956: 'whoever', 64110: 'suds', 14961: 'stays', 47731: 'meant', 31348: 'piano', 35262: 'smoke', 14967: 'noooooooooo', 64120: 'figured', 31353: 'pian-ee', 64124: 'best', 38688: 'cocking', 64130: 'along', 64137: 'kept', 31372: 'cattle', 47757: 'seductive', 64142: 'chunk', 31376: 'billy_the_kid:', 64145: 'oak', 47763: 'cologne', 64148: 'lenny_leonard:', 47765: 'shaved', 47767: 'knuckles', 64152: 'poplar', 68036: 'trust', 62575: 'laugh', 31390: 'fly', 64159: 'youse', 64161: 'correcting', 31394: \"calf's\", 7592: 'unfair', 64165: 'knowledge', 47782: 'shakes', 38001: 'allow', 64168: 'products', 7964: 'lighter', 64331: 'watashi', 58875: 'mister', 60439: \"wasn't\", 2505: \"o'problem\", 47801: 'letter', 64189: 'belong', 47807: 'stationery', 15042: 'duffed', 47811: 'handwriting', 47815: 'idioms', 47817: 'speech', 47818: 'patterns', 64208: 'terrified', 15057: 'creates', 15058: 'awareness', 35278: 'kicked', 26143: 'ears', 31449: 'solo', 64218: 'smile:', 64221: 'baritone', 64222: 'voice', 38011: 'credit', 47853: 'linda', 64238: 'something:', 31471: 'ghouls', 64240: 'heard', 64242: 'queen', 64243: 'elizabeth', 64245: 'person', 68052: 'wish', 31483: 'grammy', 31484: 'judges', 45239: 'worked', 54400: 'bluff', 65323: 'depressing', 15109: 'cheerleaders:', 47879: 'gayer', 15112: 'and:', 47884: 'talk-sings', 64269: 'friend', 31502: 'perfected', 31504: 'device', 55060: 'brace', 47895: 'occurred', 15138: 'perfunctory', 31523: 'past', 15140: 'brusque', 15142: 'ehhh', 16177: 'stomach', 47914: 'timbuk-tee', 15147: 'swell', 15150: 'wholeheartedly', 15151: 'supports', 64304: 'portuguese', 47921: 'fast-paced', 64306: 'eu', 64307: 'nã£o', 32099: 'fuss', 64309: 'dizer', 64310: 'para', 21641: 'exit', 64313: 'french', 64315: 'je', 64316: 'ne', 64317: 'veux', 64318: 'pas', 31551: 'space-time', 31552: 'continuum', 64321: 'spanish', 64325: 'refiero', 31558: \"wait'll\", 64327: 'presumir', 47944: 'jamaican', 64329: 'japanese', 31562: 'wasted', 47947: 'teriyaki', 47948: 'thighs', 64333: 'koji', 64334: 'suru', 64335: 'wakede', 64336: 'wa', 64337: 'arimasen', 31570: 'plotz', 15188: 'shaky', 47958: 'kiss', 64344: 'which', 64345: 'means', 46223: 'a-a-b-b-a', 47966: 'duke', 31585: 'absentminded', 64354: 'show', 31587: 'polishing', 15204: 'villanova', 49607: 'exultant', 47976: 'queer', 64361: 'despite', 64362: 'himself', 15214: 'streetcorner', 64371: 'expect', 15220: 'anger', 64374: 'bow', 51689: \"others'\", 47994: \"who'll\", 47999: 'sack', 64384: 'scrape', 65344: 'laughing', 15237: 'ought', 64393: 'majesty', 64395: 'notice', 64397: \"didn't\", 29848: \"round's\", 64406: 'giggles', 48023: 'letters', 48025: 'lie', 31642: 'diapers', 10735: 'sickly', 48028: 'spoken', 508: 'underwear', 48031: 'whaddaya', 15267: 'parasol', 64420: 'stunned', 64422: 'nigeria', 64427: 'repressed', 64428: 'rage', 64434: 'speak', 64438: 'private', 15291: 'congratulations', 48062: 'amnesia', 51701: \"friend's\", 48067: 'dang', 48070: 'missing', 48078: 'squeeze', 31695: 'indignant', 39245: 'haw', 15320: 'thirteen', 48098: 'wing', 10747: 'snotball', 15332: 'cockroach', 15337: 'displeased', 48109: 'ran', 31726: 'yuh-huh', 48112: 'irishman', 64498: 'spelling', 48115: 'pretends', 64500: 'grammar', 31734: 'plenty', 15351: 'man_at_bar:', 31737: 'ways', 31741: 'alter', 31743: 'consciousness', 48133: \"o'reilly\", 64519: 'million', 48136: 'agnes_skinner:', 32599: 'femininity', 55614: 'buyer', 15380: \"scammin'\", 64537: 'kemi', 48156: 'radiator', 48165: 'rebuilt', 64550: 'nigerian', 64551: 'prince', 64553: 'took', 48175: 'briefly', 64560: 'gasps', 31793: 'glamour', 64563: 'gone', 16880: 'quality', 48183: 'felt', 64569: 'trashed', 64574: 'looks', 48192: 'uncreeped-out', 15426: 'giant', 64583: 'actually', 64584: 'cleaned', 48207: 'mines', 64597: 'thank', 5305: 'rusty', 64602: 'drinking', 48220: 'move', 15453: 'rumor', 37613: 'stupidly', 64615: 'lost', 43538: 'peace', 64623: 'lucky', 48243: 'taste', 48245: 'romance', 48248: 'perverse', 22338: 'fastest', 64637: 'cruiser', 31875: 'beligerent', 64644: 'prayer', 57196: 'power', 64651: 'answered', 15501: 'depression', 64656: 'puzzled', 48273: 'civil', 48275: 'nurse', 24431: 'tha', 64669: 'tank', 15519: 'depressant', 64674: 'snorts', 64682: 'gil_gunderson:', 64687: 'saw', 64688: 'someone', 65395: 'pine', 48309: 'proof', 15545: 'oof', 64698: 'african', 64701: \"robbin'\", 48318: 'simultaneous', 64703: 'kwik-e-mart', 48320: 'i/you', 31940: 'liable', 64712: 'booze', 64713: 'bag', 48332: 'finale', 15565: 'sight-unseen', 13517: 'steel', 31953: 'taunting', 64722: 'shot', 64725: 'shoulder', 35364: 'doom', 64731: 'car', 64734: 'chief_wiggum:', 15585: 'twenty-four', 64739: 'saint', 64740: \"patrick's\", 68134: 'over', 64746: 'mumbling', 51751: 'ambrosia', 31982: 'smug', 15599: 'chipper', 27176: 'bridges', 64755: 'anything', 48372: 'indicates', 48373: 'pipes', 48376: 'half-beer', 64763: 'upset', 64770: 'also', 43563: 'dials', 32004: 'accelerating', 48390: 'all:', 32010: 'snapping', 48397: 'halloween', 48400: 'treehouse', 48402: 'horror', 48405: 'xx', 48408: 'kang:', 48409: 'shhh', 15642: 'dirge-like', 61624: 'agent', 64796: 'grimly', 15649: 'blooded', 13531: 'railroads', 48422: 'habitrail', 32039: 'newest', 64808: 'brother', 64812: 'knows', 48430: 'donuts', 64815: 'pin', 64816: 'number', 64820: 'forgot', 48439: 'meals', 32058: 'longest', 5343: 'spilled', 15681: 'bachelorhood', 16889: 'jay:', 64838: 'lotta', 64841: 'brothers', 64849: 'computer', 5347: 'ashtray', 48472: 'philosophical', 64858: 'him', 32655: 'sacrifice', 64867: \"money's\", 64868: 'tied', 5350: 'slurps', 15719: 'jasper_beardly:', 64872: 'jernt', 48489: 'southern', 64876: 'afford', 64877: 'elocution', 64878: 'lessons', 64880: 'teach', 21736: 'barbara', 32115: 'spit-backs', 64884: 'pronounce', 64886: 'over-pronouncing', 64889: 'joint', 68159: 'twenty', 15742: 'hot-rod', 15744: 'souped', 27200: 'illegally', 64898: 'online', 32133: 'fumes', 64903: 'pernt', 48521: 'bartending', 48522: 'school', 64909: 'funny', 61628: 'sex', 64916: 'english', 13550: \"bart'd\", 64918: 'perfect', 32152: \"tonight's\", 32155: 'cock', 15773: 'expert', 48544: 'indeed', 48547: 'stranger:', 64933: 'laughs', 15782: 'six-barrel', 15783: 'hollye', 15784: 'carb', 48553: 'mccall', 64938: 'tease', 15789: 'betcha', 48558: 'hunter', 53991: 'publish', 64945: 'ass', 15794: 'intakes', 48563: 'patient', 64952: \"sayin'\", 48569: 'recruiter', 48571: 'specializes', 15805: 'meyerhof', 15806: 'lifters', 64959: 'jeez', 64962: 'sound', 48582: 'headhunters', 32202: 'bathroom', 64971: 'coms', 48591: 'workers', 21752: 'stalking', 15828: 'dignity', 30533: 'interrupting', 21804: 'guiltily', 32219: 'reality', 49061: 'wishes', 35989: 'consoling', 21755: 'bumped', 48613: 'protesters', 48615: 'marched', 65002: 'lot', 65004: 'spinning', 48621: 'plants', 32238: 'gimmick', 15855: 'breakdown', 65008: \"treatin'\", 15858: 'society', 65011: 'crap', 65023: 'books', 48640: 'passports', 65026: 'countryman', 65027: 'chinua', 32260: '1895', 13569: 'mystery', 65033: 'apart', 68183: 'about', 65038: 'longer', 32271: 'lincoln', 65040: 'ease', 19032: 'telemarketing', 32277: 'kennedy', 65048: 'real', 65049: 'optimistic', 32284: 'mckinley', 65056: 'amused', 65058: 'fair', 65059: 'comment', 48683: 'loafers', 65068: 'eaten', 62728: 'whoa', 65075: 'eat', 65083: 'kinda', 65084: 'bird', 15933: 'burglary', 65086: 'turn', 15937: 'creature', 48707: 'cheers', 65092: 'string', 65093: 'cheese', 65098: 'fridge', 57271: 'bill', 48721: 'hooray', 32339: 'slit', 22365: 'universe', 32343: 'quick-like', 65112: 'eats', 15962: 'lover', 32349: 'bob', 65120: 'stretches', 62736: 'stirring', 65122: 'yawns', 65124: \"c'mon\", 48746: 'ooo', 32366: 'sideshow_bob:', 15983: 'intoxicated', 65139: 'small', 32373: 'haikus', 48759: 'nap', 48762: 'awake', 65147: 'mad', 15996: 'marjorie', 48765: 'meteor', 48766: 'shower', 32383: 'concentrate', 32384: 'anywhere', 65157: 'moon', 48775: 'flexible', 48778: 'ahead', 65163: 'broom', 49090: 'prison', 65167: 'jukebox', 65172: 'tune', 16021: 'realized', 47452: 'fl', 65180: 'dregs', 58549: 'death', 65183: 'bugs', 65184: \"crawlin'\", 65187: 'legs', 65193: 'mice', 65195: 'goodnight', 4353: \"singin'\", 65198: 'treats', 16052: 'devastated', 42543: 'pregnancy', 58910: 'hang', 16059: 'heart-broken', 65214: 'princess', 60547: 'closer', 48838: 'excellent', 32457: 'detective', 16074: 'sweater', 32459: 'unbelievable', 65229: 'bar:', 16080: 'cajun', 65233: 'cab', 46371: 'reckless', 32469: 'digging', 65242: 'spend', 16091: 'sneering', 32480: 'intimacy', 32489: 'cobbling', 32490: 'shoes', 62759: 'wenceslas', 16110: 'choke', 48881: 'wasting', 65267: 'arms', 32501: 'schizophrenia', 65270: 'waist', 16340: \"floatin'\", 48891: 'marshmallow', 21802: '_julius_hibbert:', 32510: 'hiring', 43091: 'access', 65283: 'lifts', 65284: 'index', 65289: 'scooter', 65290: 'store', 65295: 'did', 67642: 'kids', 16157: 'enthusiastically', 65311: 'wanted', 32544: 'swan', 65313: 'give', 65316: 'examples', 65319: 'most', 65320: 'beloved', 65322: 'albeit', 16171: 'minimum', 48945: \"guy's\", 8722: 'finance', 32564: 'delts', 48949: \"stabbin'\", 32566: 'clench', 32568: 'bam', 65338: 'fun', 16351: 'horrors', 59460: 'carpet', 65345: 'already', 65351: \"cheerin'\", 32591: 'bulked', 65361: 'offer', 32595: 'managed', 16212: 'bushes', 65365: 'literature', 48982: 'humanity', 62777: 'poor', 16216: 'tapping', 65371: 'works', 32604: 'fierce', 65379: 'coaster', 65382: 'kemi:', 65385: 'treasure', 49003: 'mocking', 49008: 'mock', 49011: 'decency', 65396: 'forever', 32630: 'glyco-load', 49016: 'official', 65401: \"doesn't\", 65402: 'care', 32635: 'ripping', 32636: 'gel', 65407: 'grow', 16256: 'zinged', 32643: 'frightened', 32645: 'denser', 49031: 'releasing', 49032: 'hounds', 65418: 'suffering', 49035: 'releases', 65420: 'silence', 65423: 'waylon_smithers:', 32657: 'period', 65426: 'noise', 16275: 'spews', 16279: 'orifice', 65433: 'numbers', 65437: 'rafters', 65442: 'sigh', 48552: 'gator', 16293: 'indifference', 65446: 'believe', 49063: 'horses', 49066: \"eatin'\", 49067: 'wish-meat', 65452: 'smithers', 65453: 'left', 65460: 'aging', 65461: 'badly', 16315: 'clapping', 65471: 'finally', 65472: 'wash', 61101: 'list', 65474: 'forehead', 32707: 'yammering', 49092: 'bust', 65477: 'aged_moe:', 65479: 'smiles', 65481: 'divine', 16331: 'celebrities', 16332: \"hawkin'\", 32718: 'pile', 16338: 'vincent', 32724: 'disco_stu:', 65494: 'touched', 65496: 'invited', 32730: 'stu', 62799: 'asked', 32733: 'disco', 32734: 'ducked', 27301: 'snitch', 22367: 'intriguing', 16355: 'unfresh', 65508: 'brother-in-law', 49127: 'exchanged', 49128: 'meaningful', 65515: 'smooth', 2727: 'today/', 49149: 'huddle', 65522: 'troy:', 50737: 'button-pusher', 19113: 'high-definition', 49145: 'return', 65530: 'secret', 16379: 'wienerschnitzel', 49148: 'whispered', 32765: 'bupkus'}\n"
     ]
    }
   ],
   "source": [
    "\"\"\"\n",
    "DON'T MODIFY ANYTHING IN THIS CELL\n",
    "\"\"\"\n",
    "# Preprocess Training, Validation, and Testing Data\n",
    "helper.preprocess_and_save_data(data_dir, token_lookup, create_lookup_tables)"
   ]
  },
  {
   "cell_type": "markdown",
   "metadata": {
    "deletable": true,
    "editable": true
   },
   "source": [
    "# Check Point\n",
    "This is your first checkpoint. If you ever decide to come back to this notebook or have to restart the notebook, you can start from here. The preprocessed data has been saved to disk."
   ]
  },
  {
   "cell_type": "code",
   "execution_count": 14,
   "metadata": {
    "collapsed": false,
    "deletable": true,
    "editable": true
   },
   "outputs": [],
   "source": [
    "\"\"\"\n",
    "DON'T MODIFY ANYTHING IN THIS CELL\n",
    "\"\"\"\n",
    "import helper\n",
    "import numpy as np\n",
    "import problem_unittests as tests\n",
    "\n",
    "int_text, vocab_to_int, int_to_vocab, token_dict = helper.load_preprocess()"
   ]
  },
  {
   "cell_type": "markdown",
   "metadata": {
    "deletable": true,
    "editable": true
   },
   "source": [
    "## Build the Neural Network\n",
    "You'll build the components necessary to build a RNN by implementing the following functions below:\n",
    "- get_inputs\n",
    "- get_init_cell\n",
    "- get_embed\n",
    "- build_rnn\n",
    "- build_nn\n",
    "- get_batches\n",
    "\n",
    "### Check the Version of TensorFlow and Access to GPU"
   ]
  },
  {
   "cell_type": "code",
   "execution_count": 15,
   "metadata": {
    "collapsed": false
   },
   "outputs": [
    {
     "name": "stdout",
     "output_type": "stream",
     "text": [
      "TensorFlow Version: 1.0.0\n"
     ]
    },
    {
     "name": "stderr",
     "output_type": "stream",
     "text": [
      "C:\\Program Files\\Anaconda3\\envs\\tensorflow\\lib\\site-packages\\ipykernel\\__main__.py:14: UserWarning: No GPU found. Please use a GPU to train your neural network.\n"
     ]
    }
   ],
   "source": [
    "\"\"\"\n",
    "DON'T MODIFY ANYTHING IN THIS CELL\n",
    "\"\"\"\n",
    "from distutils.version import LooseVersion\n",
    "import warnings\n",
    "import tensorflow as tf\n",
    "\n",
    "# Check TensorFlow Version\n",
    "assert LooseVersion(tf.__version__) >= LooseVersion('1.0'), 'Please use TensorFlow version 1.0 or newer'\n",
    "print('TensorFlow Version: {}'.format(tf.__version__))\n",
    "\n",
    "# Check for a GPU\n",
    "if not tf.test.gpu_device_name():\n",
    "    warnings.warn('No GPU found. Please use a GPU to train your neural network.')\n",
    "else:\n",
    "    print('Default GPU Device: {}'.format(tf.test.gpu_device_name()))"
   ]
  },
  {
   "cell_type": "markdown",
   "metadata": {},
   "source": [
    "### Input\n",
    "Implement the `get_inputs()` function to create TF Placeholders for the Neural Network.  It should create the following placeholders:\n",
    "- Input text placeholder named \"input\" using the [TF Placeholder](https://www.tensorflow.org/api_docs/python/tf/placeholder) `name` parameter.\n",
    "- Targets placeholder\n",
    "- Learning Rate placeholder\n",
    "\n",
    "Return the placeholders in the following the tuple `(Input, Targets, LearingRate)`"
   ]
  },
  {
   "cell_type": "code",
   "execution_count": 18,
   "metadata": {
    "collapsed": false,
    "deletable": true,
    "editable": true
   },
   "outputs": [
    {
     "name": "stdout",
     "output_type": "stream",
     "text": [
      "Tests Passed\n"
     ]
    }
   ],
   "source": [
    "def get_inputs():\n",
    "    \"\"\"\n",
    "    Create TF Placeholders for input, targets, and learning rate.\n",
    "    :return: Tuple (input, targets, learning rate)\n",
    "    \"\"\"    \n",
    "    # TODO: Implement Function\n",
    "    inputs = tf.placeholder(tf.int32, [None, None], name='input')\n",
    "    targets = tf.placeholder(tf.int32, [None, None], name='targets')\n",
    "    learning_rate = tf.placeholder(tf.float32, name='learning_rate')\n",
    "    return inputs, targets, learning_rate\n",
    "\n",
    "\n",
    "\"\"\"\n",
    "DON'T MODIFY ANYTHING IN THIS CELL THAT IS BELOW THIS LINE\n",
    "\"\"\"\n",
    "tests.test_get_inputs(get_inputs)"
   ]
  },
  {
   "cell_type": "markdown",
   "metadata": {
    "deletable": true,
    "editable": true
   },
   "source": [
    "### Build RNN Cell and Initialize\n",
    "Stack one or more [`BasicLSTMCells`](https://www.tensorflow.org/api_docs/python/tf/contrib/rnn/BasicLSTMCell) in a [`MultiRNNCell`](https://www.tensorflow.org/api_docs/python/tf/contrib/rnn/MultiRNNCell).\n",
    "- The Rnn size should be set using `rnn_size`\n",
    "- Initalize Cell State using the MultiRNNCell's [`zero_state()`](https://www.tensorflow.org/api_docs/python/tf/contrib/rnn/MultiRNNCell#zero_state) function\n",
    "    - Apply the name \"initial_state\" to the initial state using [`tf.identity()`](https://www.tensorflow.org/api_docs/python/tf/identity)\n",
    "\n",
    "Return the cell and initial state in the following tuple `(Cell, InitialState)`"
   ]
  },
  {
   "cell_type": "code",
   "execution_count": 26,
   "metadata": {
    "collapsed": false,
    "deletable": true,
    "editable": true
   },
   "outputs": [
    {
     "name": "stdout",
     "output_type": "stream",
     "text": [
      "Tests Passed\n"
     ]
    }
   ],
   "source": [
    "def get_init_cell(batch_size, rnn_size):\n",
    "    \"\"\"\n",
    "    Create an RNN Cell and initialize it.\n",
    "    :param batch_size: Size of batches\n",
    "    :param rnn_size: Size of RNNs\n",
    "    :return: Tuple (cell, initialize state)\n",
    "    \"\"\"\n",
    "    # TODO: Implement Function\n",
    "    # Your basic LSTM cell\n",
    "    lstm = tf.contrib.rnn.BasicLSTMCell(rnn_size)    \n",
    "  \n",
    "    # Stack up multiple LSTM layers, for deep learning\n",
    "    cell = tf.contrib.rnn.MultiRNNCell([lstm] * 3)\n",
    "    \n",
    "    # Getting an initial state of all zeros\n",
    "    initial_state = cell.zero_state(batch_size, tf.float32)\n",
    "\n",
    "    return (cell, tf.identity(initial_state, name='initial_state'))\n",
    "\n",
    "\n",
    "\"\"\"\n",
    "DON'T MODIFY ANYTHING IN THIS CELL THAT IS BELOW THIS LINE\n",
    "\"\"\"\n",
    "tests.test_get_init_cell(get_init_cell)"
   ]
  },
  {
   "cell_type": "markdown",
   "metadata": {
    "deletable": true,
    "editable": true
   },
   "source": [
    "### Word Embedding\n",
    "Apply embedding to `input_data` using TensorFlow.  Return the embedded sequence."
   ]
  },
  {
   "cell_type": "code",
   "execution_count": null,
   "metadata": {
    "collapsed": false,
    "deletable": true,
    "editable": true
   },
   "outputs": [],
   "source": [
    "def get_embed(input_data, vocab_size, embed_dim):\n",
    "    \"\"\"\n",
    "    Create embedding for <input_data>.\n",
    "    :param input_data: TF placeholder for text input.\n",
    "    :param vocab_size: Number of words in vocabulary.\n",
    "    :param embed_dim: Number of embedding dimensions\n",
    "    :return: Embedded input.\n",
    "    \"\"\"\n",
    "    # TODO: Implement Function\n",
    "    return None\n",
    "\n",
    "\n",
    "\"\"\"\n",
    "DON'T MODIFY ANYTHING IN THIS CELL THAT IS BELOW THIS LINE\n",
    "\"\"\"\n",
    "tests.test_get_embed(get_embed)"
   ]
  },
  {
   "cell_type": "markdown",
   "metadata": {
    "deletable": true,
    "editable": true
   },
   "source": [
    "### Build RNN\n",
    "You created a RNN Cell in the `get_init_cell()` function.  Time to use the cell to create a RNN.\n",
    "- Build the RNN using the [`tf.nn.dynamic_rnn()`](https://www.tensorflow.org/api_docs/python/tf/nn/dynamic_rnn)\n",
    " - Apply the name \"final_state\" to the final state using [`tf.identity()`](https://www.tensorflow.org/api_docs/python/tf/identity)\n",
    "\n",
    "Return the outputs and final_state state in the following tuple `(Outputs, FinalState)` "
   ]
  },
  {
   "cell_type": "code",
   "execution_count": null,
   "metadata": {
    "collapsed": false,
    "deletable": true,
    "editable": true
   },
   "outputs": [],
   "source": [
    "def build_rnn(cell, inputs):\n",
    "    \"\"\"\n",
    "    Create a RNN using a RNN Cell\n",
    "    :param cell: RNN Cell\n",
    "    :param inputs: Input text data\n",
    "    :return: Tuple (Outputs, Final State)\n",
    "    \"\"\"\n",
    "    # TODO: Implement Function\n",
    "    return None, None\n",
    "\n",
    "\n",
    "\"\"\"\n",
    "DON'T MODIFY ANYTHING IN THIS CELL THAT IS BELOW THIS LINE\n",
    "\"\"\"\n",
    "tests.test_build_rnn(build_rnn)"
   ]
  },
  {
   "cell_type": "markdown",
   "metadata": {
    "deletable": true,
    "editable": true
   },
   "source": [
    "### Build the Neural Network\n",
    "Apply the functions you implemented above to:\n",
    "- Apply embedding to `input_data` using your `get_embed(input_data, vocab_size, embed_dim)` function.\n",
    "- Build RNN using `cell` and your `build_rnn(cell, inputs)` function.\n",
    "- Apply a fully connected layer with a linear activation and `vocab_size` as the number of outputs.\n",
    "\n",
    "Return the logits and final state in the following tuple (Logits, FinalState) "
   ]
  },
  {
   "cell_type": "code",
   "execution_count": null,
   "metadata": {
    "collapsed": false,
    "deletable": true,
    "editable": true
   },
   "outputs": [],
   "source": [
    "def build_nn(cell, rnn_size, input_data, vocab_size):\n",
    "    \"\"\"\n",
    "    Build part of the neural network\n",
    "    :param cell: RNN cell\n",
    "    :param rnn_size: Size of rnns\n",
    "    :param input_data: Input data\n",
    "    :param vocab_size: Vocabulary size\n",
    "    :return: Tuple (Logits, FinalState)\n",
    "    \"\"\"\n",
    "    # TODO: Implement Function\n",
    "    return None, None\n",
    "\n",
    "\n",
    "\"\"\"\n",
    "DON'T MODIFY ANYTHING IN THIS CELL THAT IS BELOW THIS LINE\n",
    "\"\"\"\n",
    "tests.test_build_nn(build_nn)"
   ]
  },
  {
   "cell_type": "markdown",
   "metadata": {
    "deletable": true,
    "editable": true
   },
   "source": [
    "### Batches\n",
    "Implement `get_batches` to create batches of input and targets using `int_text`.  The batches should be a Numpy array with the shape `(number of batches, 2, batch size, sequence length)`. Each batch contains two elements:\n",
    "- The first element is a single batch of **input** with the shape `[batch size, sequence length]`\n",
    "- The second element is a single batch of **targets** with the shape `[batch size, sequence length]`\n",
    "\n",
    "If you can't fill the last batch with enough data, drop the last batch.\n",
    "\n",
    "For exmple, `get_batches([1, 2, 3, 4, 5, 6, 7, 8, 9, 10, 11, 12, 13, 14, 15], 2, 3)` would return a Numpy array of the following:\n",
    "```\n",
    "[\n",
    "  # First Batch\n",
    "  [\n",
    "    # Batch of Input\n",
    "    [[ 1  2  3], [ 7  8  9]],\n",
    "    # Batch of targets\n",
    "    [[ 2  3  4], [ 8  9 10]]\n",
    "  ],\n",
    " \n",
    "  # Second Batch\n",
    "  [\n",
    "    # Batch of Input\n",
    "    [[ 4  5  6], [10 11 12]],\n",
    "    # Batch of targets\n",
    "    [[ 5  6  7], [11 12 13]]\n",
    "  ]\n",
    "]\n",
    "```"
   ]
  },
  {
   "cell_type": "code",
   "execution_count": null,
   "metadata": {
    "collapsed": false,
    "deletable": true,
    "editable": true
   },
   "outputs": [],
   "source": [
    "def get_batches(int_text, batch_size, seq_length):\n",
    "    \"\"\"\n",
    "    Return batches of input and target\n",
    "    :param int_text: Text with the words replaced by their ids\n",
    "    :param batch_size: The size of batch\n",
    "    :param seq_length: The length of sequence\n",
    "    :return: Batches as a Numpy array\n",
    "    \"\"\"\n",
    "    # TODO: Implement Function\n",
    "    return None\n",
    "\n",
    "\n",
    "\"\"\"\n",
    "DON'T MODIFY ANYTHING IN THIS CELL THAT IS BELOW THIS LINE\n",
    "\"\"\"\n",
    "tests.test_get_batches(get_batches)"
   ]
  },
  {
   "cell_type": "markdown",
   "metadata": {
    "deletable": true,
    "editable": true
   },
   "source": [
    "## Neural Network Training\n",
    "### Hyperparameters\n",
    "Tune the following parameters:\n",
    "\n",
    "- Set `num_epochs` to the number of epochs.\n",
    "- Set `batch_size` to the batch size.\n",
    "- Set `rnn_size` to the size of the RNNs.\n",
    "- Set `seq_length` to the length of sequence.\n",
    "- Set `learning_rate` to the learning rate.\n",
    "- Set `show_every_n_batches` to the number of batches the neural network should print progress."
   ]
  },
  {
   "cell_type": "code",
   "execution_count": null,
   "metadata": {
    "collapsed": true,
    "deletable": true,
    "editable": true
   },
   "outputs": [],
   "source": [
    "# Number of Epochs\n",
    "num_epochs = None\n",
    "# Batch Size\n",
    "batch_size = None\n",
    "# RNN Size\n",
    "rnn_size = None\n",
    "# Sequence Length\n",
    "seq_length = None\n",
    "# Learning Rate\n",
    "learning_rate = None\n",
    "# Show stats for every n number of batches\n",
    "show_every_n_batches = None\n",
    "\n",
    "\"\"\"\n",
    "DON'T MODIFY ANYTHING IN THIS CELL THAT IS BELOW THIS LINE\n",
    "\"\"\"\n",
    "save_dir = './save'"
   ]
  },
  {
   "cell_type": "markdown",
   "metadata": {
    "deletable": true,
    "editable": true
   },
   "source": [
    "### Build the Graph\n",
    "Build the graph using the neural network you implemented."
   ]
  },
  {
   "cell_type": "code",
   "execution_count": null,
   "metadata": {
    "collapsed": false,
    "deletable": true,
    "editable": true
   },
   "outputs": [],
   "source": [
    "\"\"\"\n",
    "DON'T MODIFY ANYTHING IN THIS CELL\n",
    "\"\"\"\n",
    "from tensorflow.contrib import seq2seq\n",
    "\n",
    "train_graph = tf.Graph()\n",
    "with train_graph.as_default():\n",
    "    vocab_size = len(int_to_vocab)\n",
    "    input_text, targets, lr = get_inputs()\n",
    "    input_data_shape = tf.shape(input_text)\n",
    "    cell, initial_state = get_init_cell(input_data_shape[0], rnn_size)\n",
    "    logits, final_state = build_nn(cell, rnn_size, input_text, vocab_size)\n",
    "\n",
    "    # Probabilities for generating words\n",
    "    probs = tf.nn.softmax(logits, name='probs')\n",
    "\n",
    "    # Loss function\n",
    "    cost = seq2seq.sequence_loss(\n",
    "        logits,\n",
    "        targets,\n",
    "        tf.ones([input_data_shape[0], input_data_shape[1]]))\n",
    "\n",
    "    # Optimizer\n",
    "    optimizer = tf.train.AdamOptimizer(lr)\n",
    "\n",
    "    # Gradient Clipping\n",
    "    gradients = optimizer.compute_gradients(cost)\n",
    "    capped_gradients = [(tf.clip_by_value(grad, -1., 1.), var) for grad, var in gradients]\n",
    "    train_op = optimizer.apply_gradients(capped_gradients)"
   ]
  },
  {
   "cell_type": "markdown",
   "metadata": {
    "deletable": true,
    "editable": true
   },
   "source": [
    "## Train\n",
    "Train the neural network on the preprocessed data.  If you have a hard time getting a good loss, check the [forms](https://discussions.udacity.com/) to see if anyone is having the same problem."
   ]
  },
  {
   "cell_type": "code",
   "execution_count": null,
   "metadata": {
    "collapsed": false,
    "deletable": true,
    "editable": true
   },
   "outputs": [],
   "source": [
    "\"\"\"\n",
    "DON'T MODIFY ANYTHING IN THIS CELL\n",
    "\"\"\"\n",
    "batches = get_batches(int_text, batch_size, seq_length)\n",
    "\n",
    "with tf.Session(graph=train_graph) as sess:\n",
    "    sess.run(tf.global_variables_initializer())\n",
    "\n",
    "    for epoch_i in range(num_epochs):\n",
    "        state = sess.run(initial_state, {input_text: batches[0][0]})\n",
    "\n",
    "        for batch_i, (x, y) in enumerate(batches):\n",
    "            feed = {\n",
    "                input_text: x,\n",
    "                targets: y,\n",
    "                initial_state: state,\n",
    "                lr: learning_rate}\n",
    "            train_loss, state, _ = sess.run([cost, final_state, train_op], feed)\n",
    "\n",
    "            # Show every <show_every_n_batches> batches\n",
    "            if (epoch_i * len(batches) + batch_i) % show_every_n_batches == 0:\n",
    "                print('Epoch {:>3} Batch {:>4}/{}   train_loss = {:.3f}'.format(\n",
    "                    epoch_i,\n",
    "                    batch_i,\n",
    "                    len(batches),\n",
    "                    train_loss))\n",
    "\n",
    "    # Save Model\n",
    "    saver = tf.train.Saver()\n",
    "    saver.save(sess, save_dir)\n",
    "    print('Model Trained and Saved')"
   ]
  },
  {
   "cell_type": "markdown",
   "metadata": {
    "deletable": true,
    "editable": true
   },
   "source": [
    "## Save Parameters\n",
    "Save `seq_length` and `save_dir` for generating a new TV script."
   ]
  },
  {
   "cell_type": "code",
   "execution_count": null,
   "metadata": {
    "collapsed": false,
    "deletable": true,
    "editable": true
   },
   "outputs": [],
   "source": [
    "\"\"\"\n",
    "DON'T MODIFY ANYTHING IN THIS CELL\n",
    "\"\"\"\n",
    "# Save parameters for checkpoint\n",
    "helper.save_params((seq_length, save_dir))"
   ]
  },
  {
   "cell_type": "markdown",
   "metadata": {
    "deletable": true,
    "editable": true
   },
   "source": [
    "# Checkpoint"
   ]
  },
  {
   "cell_type": "code",
   "execution_count": null,
   "metadata": {
    "collapsed": false,
    "deletable": true,
    "editable": true
   },
   "outputs": [],
   "source": [
    "\"\"\"\n",
    "DON'T MODIFY ANYTHING IN THIS CELL\n",
    "\"\"\"\n",
    "import tensorflow as tf\n",
    "import numpy as np\n",
    "import helper\n",
    "import problem_unittests as tests\n",
    "\n",
    "_, vocab_to_int, int_to_vocab, token_dict = helper.load_preprocess()\n",
    "seq_length, load_dir = helper.load_params()"
   ]
  },
  {
   "cell_type": "markdown",
   "metadata": {
    "deletable": true,
    "editable": true
   },
   "source": [
    "## Implement Generate Functions\n",
    "### Get Tensors\n",
    "Get tensors from `loaded_graph` using the function [`get_tensor_by_name()`](https://www.tensorflow.org/api_docs/python/tf/Graph#get_tensor_by_name).  Get the tensors using the following names:\n",
    "- \"input:0\"\n",
    "- \"initial_state:0\"\n",
    "- \"final_state:0\"\n",
    "- \"probs:0\"\n",
    "\n",
    "Return the tensors in the following tuple `(InputTensor, InitialStateTensor, FinalStateTensor, ProbsTensor)` "
   ]
  },
  {
   "cell_type": "code",
   "execution_count": null,
   "metadata": {
    "collapsed": false,
    "deletable": true,
    "editable": true
   },
   "outputs": [],
   "source": [
    "def get_tensors(loaded_graph):\n",
    "    \"\"\"\n",
    "    Get input, initial state, final state, and probabilities tensor from <loaded_graph>\n",
    "    :param loaded_graph: TensorFlow graph loaded from file\n",
    "    :return: Tuple (InputTensor, InitialStateTensor, FinalStateTensor, ProbsTensor)\n",
    "    \"\"\"\n",
    "    # TODO: Implement Function\n",
    "    return None, None, None, None\n",
    "\n",
    "\n",
    "\"\"\"\n",
    "DON'T MODIFY ANYTHING IN THIS CELL THAT IS BELOW THIS LINE\n",
    "\"\"\"\n",
    "tests.test_get_tensors(get_tensors)"
   ]
  },
  {
   "cell_type": "markdown",
   "metadata": {
    "deletable": true,
    "editable": true
   },
   "source": [
    "### Choose Word\n",
    "Implement the `pick_word()` function to select the next word using `probabilities`."
   ]
  },
  {
   "cell_type": "code",
   "execution_count": null,
   "metadata": {
    "collapsed": false,
    "deletable": true,
    "editable": true
   },
   "outputs": [],
   "source": [
    "def pick_word(probabilities, int_to_vocab):\n",
    "    \"\"\"\n",
    "    Pick the next word in the generated text\n",
    "    :param probabilities: Probabilites of the next word\n",
    "    :param int_to_vocab: Dictionary of word ids as the keys and words as the values\n",
    "    :return: String of the predicted word\n",
    "    \"\"\"\n",
    "    # TODO: Implement Function\n",
    "    return None\n",
    "\n",
    "\n",
    "\"\"\"\n",
    "DON'T MODIFY ANYTHING IN THIS CELL THAT IS BELOW THIS LINE\n",
    "\"\"\"\n",
    "tests.test_pick_word(pick_word)"
   ]
  },
  {
   "cell_type": "markdown",
   "metadata": {
    "deletable": true,
    "editable": true
   },
   "source": [
    "## Generate TV Script\n",
    "This will generate the TV script for you.  Set `gen_length` to the length of TV script you want to generate."
   ]
  },
  {
   "cell_type": "code",
   "execution_count": null,
   "metadata": {
    "collapsed": false,
    "deletable": true,
    "editable": true
   },
   "outputs": [],
   "source": [
    "gen_length = 200\n",
    "# homer_simpson, moe_szyslak, or Barney_Gumble\n",
    "prime_word = 'moe_szyslak'\n",
    "\n",
    "\"\"\"\n",
    "DON'T MODIFY ANYTHING IN THIS CELL THAT IS BELOW THIS LINE\n",
    "\"\"\"\n",
    "loaded_graph = tf.Graph()\n",
    "with tf.Session(graph=loaded_graph) as sess:\n",
    "    # Load saved model\n",
    "    loader = tf.train.import_meta_graph(load_dir + '.meta')\n",
    "    loader.restore(sess, load_dir)\n",
    "\n",
    "    # Get Tensors from loaded model\n",
    "    input_text, initial_state, final_state, probs = get_tensors(loaded_graph)\n",
    "\n",
    "    # Sentences generation setup\n",
    "    gen_sentences = [prime_word + ':']\n",
    "    prev_state = sess.run(initial_state, {input_text: np.array([[1]])})\n",
    "\n",
    "    # Generate sentences\n",
    "    for n in range(gen_length):\n",
    "        # Dynamic Input\n",
    "        dyn_input = [[vocab_to_int[word] for word in gen_sentences[-seq_length:]]]\n",
    "        dyn_seq_length = len(dyn_input[0])\n",
    "\n",
    "        # Get Prediction\n",
    "        probabilities, prev_state = sess.run(\n",
    "            [probs, final_state],\n",
    "            {input_text: dyn_input, initial_state: prev_state})\n",
    "        \n",
    "        pred_word = pick_word(probabilities[dyn_seq_length-1], int_to_vocab)\n",
    "\n",
    "        gen_sentences.append(pred_word)\n",
    "    \n",
    "    # Remove tokens\n",
    "    tv_script = ' '.join(gen_sentences)\n",
    "    for key, token in token_dict.items():\n",
    "        ending = ' ' if key in ['\\n', '(', '\"'] else ''\n",
    "        tv_script = tv_script.replace(' ' + token.lower(), key)\n",
    "    tv_script = tv_script.replace('\\n ', '\\n')\n",
    "    tv_script = tv_script.replace('( ', '(')\n",
    "        \n",
    "    print(tv_script)"
   ]
  },
  {
   "cell_type": "markdown",
   "metadata": {
    "deletable": true,
    "editable": true
   },
   "source": [
    "# The TV Script is Nonsensical\n",
    "It's ok if the TV script doesn't make any sense.  We trained on less than a megabyte of text.  In order to get good results, you'll have to use a smaller vocabulary or get more data.  Luckly there's more data!  As we mentioned in the begging of this project, this is a subset of [another dataset](https://www.kaggle.com/wcukierski/the-simpsons-by-the-data).  We didn't have you train on all the data, because that would take too long.  However, you are free to train your neural network on all the data.  After you complete the project, of course.\n",
    "# Submitting This Project\n",
    "When submitting this project, make sure to run all the cells before saving the notebook. Save the notebook file as \"dlnd_tv_script_generation.ipynb\" and save it as a HTML file under \"File\" -> \"Download as\". Include the \"helper.py\" and \"problem_unittests.py\" files in your submission."
   ]
  }
 ],
 "metadata": {
  "kernelspec": {
   "display_name": "Python 3",
   "language": "python",
   "name": "python3"
  },
  "language_info": {
   "codemirror_mode": {
    "name": "ipython",
    "version": 3
   },
   "file_extension": ".py",
   "mimetype": "text/x-python",
   "name": "python",
   "nbconvert_exporter": "python",
   "pygments_lexer": "ipython3",
   "version": "3.5.3"
  }
 },
 "nbformat": 4,
 "nbformat_minor": 0
}
